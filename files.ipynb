{
 "cells": [
  {
   "cell_type": "code",
   "execution_count": 1,
   "metadata": {},
   "outputs": [
    {
     "data": {
      "text/plain": [
       "'/Users/aydin/GIT/python_lesson/Nots'"
      ]
     },
     "execution_count": 1,
     "metadata": {},
     "output_type": "execute_result"
    }
   ],
   "source": [
    "pwd\n"
   ]
  },
  {
   "cell_type": "code",
   "execution_count": 3,
   "metadata": {},
   "outputs": [],
   "source": [
    "my_file = open(\"first_file.txt\")"
   ]
  },
  {
   "cell_type": "code",
   "execution_count": 5,
   "metadata": {},
   "outputs": [],
   "source": [
    "sea = open(\"fisches.txt\", \"r\")"
   ]
  },
  {
   "cell_type": "code",
   "execution_count": 6,
   "metadata": {},
   "outputs": [
    {
     "name": "stdout",
     "output_type": "stream",
     "text": [
      "\n"
     ]
    }
   ],
   "source": [
    "print(sea.read())"
   ]
  },
  {
   "cell_type": "code",
   "execution_count": 7,
   "metadata": {},
   "outputs": [],
   "source": [
    "sea.close()"
   ]
  },
  {
   "cell_type": "code",
   "execution_count": 1,
   "metadata": {},
   "outputs": [],
   "source": [
    "import pandas as pd\n",
    "import sqlite3"
   ]
  },
  {
   "cell_type": "code",
   "execution_count": 33,
   "metadata": {},
   "outputs": [
    {
     "name": "stdout",
     "output_type": "stream",
     "text": [
      "/bin/sh: del: command not found\r\n"
     ]
    }
   ],
   "source": [
    "!del uebung.db"
   ]
  },
  {
   "cell_type": "code",
   "execution_count": 34,
   "metadata": {},
   "outputs": [],
   "source": [
    "conn = sqlite3.connect('uebung.db')"
   ]
  },
  {
   "cell_type": "code",
   "execution_count": 35,
   "metadata": {},
   "outputs": [],
   "source": [
    "cursor = conn.cursor()"
   ]
  },
  {
   "cell_type": "code",
   "execution_count": 36,
   "metadata": {},
   "outputs": [
    {
     "data": {
      "text/plain": [
       "<sqlite3.Cursor at 0x7fae9718a650>"
      ]
     },
     "execution_count": 36,
     "metadata": {},
     "output_type": "execute_result"
    }
   ],
   "source": [
    "cursor.execute('')"
   ]
  },
  {
   "cell_type": "code",
   "execution_count": 37,
   "metadata": {},
   "outputs": [],
   "source": [
    "conn.commit()"
   ]
  },
  {
   "cell_type": "code",
   "execution_count": 38,
   "metadata": {},
   "outputs": [
    {
     "data": {
      "text/plain": [
       "<sqlite3.Cursor at 0x7fae9718a650>"
      ]
     },
     "execution_count": 38,
     "metadata": {},
     "output_type": "execute_result"
    }
   ],
   "source": [
    "sql = '''CREATE TABLE IF NOT EXISTS INTERNATIONAL_STUDENT_TEST_SCORE(\n",
    "    COUNTRY CHAR (50) NOT NULL,\n",
    "    FIRST_NAME CHAR (50),\n",
    "    LAST_NAME CHAR(50),\n",
    "    TEST_SCORE INT\n",
    "    )'''\n",
    "cursor.execute(sql)"
   ]
  },
  {
   "cell_type": "code",
   "execution_count": 39,
   "metadata": {},
   "outputs": [
    {
     "data": {
      "text/plain": [
       "<sqlite3.Cursor at 0x7fae9718a650>"
      ]
     },
     "execution_count": 39,
     "metadata": {},
     "output_type": "execute_result"
    }
   ],
   "source": [
    "sql = \"\"\"INSERT INTO INTERNATIONAL_STUDENT_TEST_SCORE (country, first_name, last_name, test_score)\n",
    "VALUES\n",
    "('United States','Marshall', 'Bernadot', 54),\n",
    "('Ghana','Celinda', 'Malkin', 51),\n",
    "('Turkey','Ali', 'Yilmaz', 52),\n",
    "('Germnay','Markus', 'Muller', 53),\n",
    "('England','Check', 'Tor', 50),\n",
    "('Korea','Yoo', 'Len', 56)\n",
    "\n",
    "\"\"\"\n",
    "\n",
    "cursor.execute(sql)"
   ]
  },
  {
   "cell_type": "code",
   "execution_count": 51,
   "metadata": {},
   "outputs": [
    {
     "data": {
      "text/plain": [
       "<sqlite3.Cursor at 0x7fae9718a650>"
      ]
     },
     "execution_count": 51,
     "metadata": {},
     "output_type": "execute_result"
    }
   ],
   "source": [
    "sql = \"\"\"INSERT INTO INTERNATIONAL_STUDENT_TEST_SCORE (country, first_name, last_name, test_score)\n",
    "VALUES\n",
    "('United States','Marshall', 'Bernadot', 54),\n",
    "('Ghana','Celinda', 'Malkin', 51),\n",
    "('Turkey','Ali', 'Yilmaz', 52),\n",
    "('Germnay','Markus', 'Muller', 53),\n",
    "('England','Check', 'Tor', 50),\n",
    "('Korea','Yoo', 'Len', 56),\n",
    "('Korea','Yoo', 'Len', 51),\n",
    "('Korea','Yoo', 'Len', 53),\n",
    "('Korea','Yoo', 'Len', 51)\n",
    "\n",
    "\"\"\"\n",
    "\n",
    "cursor.execute(sql)"
   ]
  },
  {
   "cell_type": "code",
   "execution_count": 41,
   "metadata": {},
   "outputs": [
    {
     "data": {
      "text/plain": [
       "[(0, 'COUNTRY', 'CHAR (50)', 1, None, 0),\n",
       " (1, 'FIRST_NAME', 'CHAR (50)', 0, None, 0),\n",
       " (2, 'LAST_NAME', 'CHAR(50)', 0, None, 0),\n",
       " (3, 'TEST_SCORE', 'INT', 0, None, 0)]"
      ]
     },
     "execution_count": 41,
     "metadata": {},
     "output_type": "execute_result"
    }
   ],
   "source": [
    "sql = \"\"\" PRAGMA table_info(INTERNATIONAL_STUDENT_TEST_SCORE)\n",
    "\"\"\"\n",
    "\n",
    "cursor.execute(sql)\n",
    "result = cursor.fetchall()\n",
    "result"
   ]
  },
  {
   "cell_type": "code",
   "execution_count": 42,
   "metadata": {},
   "outputs": [
    {
     "data": {
      "text/plain": [
       "list"
      ]
     },
     "execution_count": 42,
     "metadata": {},
     "output_type": "execute_result"
    }
   ],
   "source": [
    "type(result)"
   ]
  },
  {
   "cell_type": "code",
   "execution_count": 43,
   "metadata": {},
   "outputs": [
    {
     "data": {
      "text/plain": [
       "[('Ghana', 'Celinda', 'Malkin', 51), ('Ghana', 'Celinda', 'Malkin', 51)]"
      ]
     },
     "execution_count": 43,
     "metadata": {},
     "output_type": "execute_result"
    }
   ],
   "source": [
    "sql = \"\"\"\n",
    "    select *\n",
    "    from INTERNATIONAL_STUDENT_TEST_SCORE\n",
    "    where COUNTRY = 'Ghana'\n",
    "\"\"\"\n",
    "\n",
    "cursor.execute(sql)\n",
    "result = cursor.fetchall()\n",
    "result"
   ]
  },
  {
   "cell_type": "code",
   "execution_count": 45,
   "metadata": {},
   "outputs": [
    {
     "data": {
      "text/plain": [
       "[('England', 50, 2),\n",
       " ('Ghana', 51, 2),\n",
       " ('Turkey', 52, 2),\n",
       " ('Germnay', 53, 2),\n",
       " ('United States', 54, 2),\n",
       " ('Korea', 56, 5)]"
      ]
     },
     "execution_count": 45,
     "metadata": {},
     "output_type": "execute_result"
    }
   ],
   "source": [
    "sql = \"\"\"\n",
    "    select country, test_score, count(test_score) as \"count_test_score\"\n",
    "    from INTERNATIONAL_STUDENT_TEST_SCORE\n",
    "    group by test_score, country\n",
    "    \n",
    "\"\"\"\n",
    "\n",
    "cursor.execute(sql)\n",
    "result = cursor.fetchall()\n",
    "result"
   ]
  },
  {
   "cell_type": "code",
   "execution_count": 31,
   "metadata": {},
   "outputs": [],
   "source": [
    "cursor.close()"
   ]
  },
  {
   "cell_type": "code",
   "execution_count": 46,
   "metadata": {},
   "outputs": [
    {
     "data": {
      "text/plain": [
       "[('Korea', 56, 56)]"
      ]
     },
     "execution_count": 46,
     "metadata": {},
     "output_type": "execute_result"
    }
   ],
   "source": [
    "sql = \"\"\"\n",
    "    select country, test_score, max(test_score) as \"max_test_score\"\n",
    "    from INTERNATIONAL_STUDENT_TEST_SCORE\n",
    "    \n",
    "    \n",
    "\"\"\"\n",
    "\n",
    "cursor.execute(sql)\n",
    "result = cursor.fetchall()\n",
    "result"
   ]
  },
  {
   "cell_type": "code",
   "execution_count": 57,
   "metadata": {},
   "outputs": [
    {
     "data": {
      "text/plain": [
       "[('Korea', 56),\n",
       " ('United States', 54),\n",
       " ('Germnay', 53),\n",
       " ('Korea', 53),\n",
       " ('Turkey', 52),\n",
       " ('Ghana', 51),\n",
       " ('Korea', 51),\n",
       " ('England', 50)]"
      ]
     },
     "execution_count": 57,
     "metadata": {},
     "output_type": "execute_result"
    }
   ],
   "source": [
    "sql = \"\"\"\n",
    "    select country, test_score\n",
    "    from INTERNATIONAL_STUDENT_TEST_SCORE\n",
    "    group by country, test_score\n",
    "    order by test_score desc\n",
    "    \n",
    "\"\"\"\n",
    "\n",
    "cursor.execute(sql)\n",
    "result = cursor.fetchall()\n",
    "result"
   ]
  },
  {
   "cell_type": "code",
   "execution_count": 53,
   "metadata": {},
   "outputs": [
    {
     "data": {
      "text/plain": [
       "[('England', 50, 3),\n",
       " ('Ghana', 51, 3),\n",
       " ('Korea', 51, 2),\n",
       " ('Turkey', 52, 3),\n",
       " ('Germnay', 53, 3),\n",
       " ('Korea', 53, 1),\n",
       " ('United States', 54, 3),\n",
       " ('Korea', 56, 6)]"
      ]
     },
     "execution_count": 53,
     "metadata": {},
     "output_type": "execute_result"
    }
   ],
   "source": [
    "sql = \"\"\"\n",
    "    select country, test_score, count(test_score) as \"count_test_score\"\n",
    "    from INTERNATIONAL_STUDENT_TEST_SCORE\n",
    "    group by test_score, country\n",
    "    \n",
    "\"\"\"\n",
    "\n",
    "cursor.execute(sql)\n",
    "result = cursor.fetchall()\n",
    "result"
   ]
  },
  {
   "cell_type": "code",
   "execution_count": 56,
   "metadata": {},
   "outputs": [
    {
     "data": {
      "text/plain": [
       "[('England', 50),\n",
       " ('Ghana', 51),\n",
       " ('Korea', 51),\n",
       " ('Turkey', 52),\n",
       " ('Germnay', 53),\n",
       " ('Korea', 53),\n",
       " ('United States', 54),\n",
       " ('Korea', 56)]"
      ]
     },
     "execution_count": 56,
     "metadata": {},
     "output_type": "execute_result"
    }
   ],
   "source": [
    "sql = \"\"\"\n",
    "    select country, test_score\n",
    "    from INTERNATIONAL_STUDENT_TEST_SCORE\n",
    "    group by country, test_score\n",
    "    order by test_score \n",
    "    \n",
    "\"\"\"\n",
    "\n",
    "cursor.execute(sql)\n",
    "result = cursor.fetchall()\n",
    "result"
   ]
  },
  {
   "cell_type": "code",
   "execution_count": null,
   "metadata": {},
   "outputs": [],
   "source": []
  }
 ],
 "metadata": {
  "kernelspec": {
   "display_name": "Python 3",
   "language": "python",
   "name": "python3"
  },
  "language_info": {
   "codemirror_mode": {
    "name": "ipython",
    "version": 3
   },
   "file_extension": ".py",
   "mimetype": "text/x-python",
   "name": "python",
   "nbconvert_exporter": "python",
   "pygments_lexer": "ipython3",
   "version": "3.7.6"
  }
 },
 "nbformat": 4,
 "nbformat_minor": 4
}
