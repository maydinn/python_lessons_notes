{
 "cells": [
  {
   "cell_type": "code",
   "execution_count": 2,
   "metadata": {},
   "outputs": [
    {
     "name": "stdout",
     "output_type": "stream",
     "text": [
      "enter your age: 18\n",
      "you enter valid age\n"
     ]
    }
   ],
   "source": [
    "while True:\n",
    "    age = input(\"enter your age: \")\n",
    "    if age.isdigit:\n",
    "        print (\"you enter valid age\")\n",
    "        break\n",
    "    else:\n",
    "        print(\"try again\")"
   ]
  },
  {
   "cell_type": "code",
   "execution_count": 3,
   "metadata": {},
   "outputs": [
    {
     "name": "stdout",
     "output_type": "stream",
     "text": [
      "enter your age plase40\n",
      "Great! You enter valid input :  40\n"
     ]
    }
   ],
   "source": [
    "age = input(\"enter your age plase\")\n",
    "while not age.isdigit():\n",
    "    print(\"you entered incorrectly\")\n",
    "    age = input(\"enter your age plase\")\n",
    "print(\"Great! You enter valid input : \", age)"
   ]
  },
  {
   "cell_type": "code",
   "execution_count": 6,
   "metadata": {},
   "outputs": [
    {
     "name": "stdout",
     "output_type": "stream",
     "text": [
      "guess a number20\n",
      "down\n",
      "guess a number9\n",
      "up\n",
      "guess a number10\n",
      "correct!!!\n"
     ]
    }
   ],
   "source": [
    "while True:\n",
    "    assinged_number = 10\n",
    "    entered_number = int(input(\"guess a number\"))\n",
    "    if assinged_number > entered_number :\n",
    "        print(\"up\")\n",
    "    elif assinged_number < entered_number :\n",
    "        print(\"down\")\n",
    "    else:\n",
    "        print(\"correct!!!\")\n",
    "        break"
   ]
  },
  {
   "cell_type": "code",
   "execution_count": 5,
   "metadata": {},
   "outputs": [
    {
     "name": "stdout",
     "output_type": "stream",
     "text": [
      "enter a sentence: hayır bunu böyle nasıl yaptın aklılbaşım almıyor\n",
      "aklılbaşım\n"
     ]
    }
   ],
   "source": [
    "sentece = input(\"enter a sentence: \")\n",
    "sentence_liste = sentece.split()\n",
    "word = \"\"\n",
    "i = 0\n",
    "while i < len(sentence_liste)-1:\n",
    "    \n",
    "    if len(sentence_liste [i]) > len(sentence_liste [i + 1]):\n",
    "        word = sentence_liste [i]\n",
    "    else:\n",
    "        word = sentence_liste [i+1]\n",
    "    i += 1\n",
    "print(word)\n",
    "    "
   ]
  },
  {
   "cell_type": "code",
   "execution_count": 10,
   "metadata": {},
   "outputs": [
    {
     "name": "stdout",
     "output_type": "stream",
     "text": [
      "enter a sentence: ali baba neredesin\n",
      "the length of longest word is  9\n"
     ]
    }
   ],
   "source": [
    "sentece = input(\"enter a sentence: \")\n",
    "sentence_liste = sentece.split()\n",
    "i = 0\n",
    "longest = 0\n",
    "\n",
    "while i < len(sentence_liste):\n",
    "    if len(sentence_liste[i]) > longest:\n",
    "        longest = len(sentence_liste[i])\n",
    "    i = i + 1\n",
    "print(\"the length of longest word is \", longest)"
   ]
  },
  {
   "cell_type": "code",
   "execution_count": null,
   "metadata": {},
   "outputs": [],
   "source": []
  }
 ],
 "metadata": {
  "kernelspec": {
   "display_name": "Python 3",
   "language": "python",
   "name": "python3"
  },
  "language_info": {
   "codemirror_mode": {
    "name": "ipython",
    "version": 3
   },
   "file_extension": ".py",
   "mimetype": "text/x-python",
   "name": "python",
   "nbconvert_exporter": "python",
   "pygments_lexer": "ipython3",
   "version": "3.7.6"
  }
 },
 "nbformat": 4,
 "nbformat_minor": 4
}
