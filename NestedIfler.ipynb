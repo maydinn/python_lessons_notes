{
 "cells": [
  {
   "cell_type": "code",
   "execution_count": 2,
   "metadata": {},
   "outputs": [
    {
     "name": "stdout",
     "output_type": "stream",
     "text": [
      "enter your age: 18\n",
      "you enter valid age\n"
     ]
    }
   ],
   "source": [
    "while True:\n",
    "    age = input(\"enter your age: \")\n",
    "    if age.isdigit:\n",
    "        print (\"you enter valid age\")\n",
    "        break\n",
    "    else:\n",
    "        print(\"try again\")"
   ]
  },
  {
   "cell_type": "code",
   "execution_count": 3,
   "metadata": {},
   "outputs": [
    {
     "name": "stdout",
     "output_type": "stream",
     "text": [
      "enter your age plase40\n",
      "Great! You enter valid input :  40\n"
     ]
    }
   ],
   "source": [
    "age = input(\"enter your age plase\")\n",
    "while not age.isdigit():\n",
    "    print(\"you entered incorrectly\")\n",
    "    age = input(\"enter your age plase\")\n",
    "print(\"Great! You enter valid input : \", age)"
   ]
  },
  {
   "cell_type": "code",
   "execution_count": 6,
   "metadata": {},
   "outputs": [
    {
     "name": "stdout",
     "output_type": "stream",
     "text": [
      "guess a number20\n",
      "down\n",
      "guess a number9\n",
      "up\n",
      "guess a number10\n",
      "correct!!!\n"
     ]
    }
   ],
   "source": [
    "while True:\n",
    "    assinged_number = 10\n",
    "    entered_number = int(input(\"guess a number\"))\n",
    "    if assinged_number > entered_number :\n",
    "        print(\"up\")\n",
    "    elif assinged_number < entered_number :\n",
    "        print(\"down\")\n",
    "    else:\n",
    "        print(\"correct!!!\")\n",
    "        break"
   ]
  },
  {
   "cell_type": "code",
   "execution_count": null,
   "metadata": {},
   "outputs": [],
   "source": []
  }
 ],
 "metadata": {
  "kernelspec": {
   "display_name": "Python 3",
   "language": "python",
   "name": "python3"
  },
  "language_info": {
   "codemirror_mode": {
    "name": "ipython",
    "version": 3
   },
   "file_extension": ".py",
   "mimetype": "text/x-python",
   "name": "python",
   "nbconvert_exporter": "python",
   "pygments_lexer": "ipython3",
   "version": "3.7.6"
  }
 },
 "nbformat": 4,
 "nbformat_minor": 4
}
