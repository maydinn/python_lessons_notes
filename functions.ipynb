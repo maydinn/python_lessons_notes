{
 "cells": [
  {
   "cell_type": "code",
   "execution_count": 21,
   "metadata": {},
   "outputs": [],
   "source": [
    "my_list = [\"a\", \"b,\", \"c\", \"d\"]\n",
    "def fltVowel(lst):\n",
    "    for i in range(len(my_list)):\n",
    "        if i % 2:\n",
    "            return True\n",
    "        else:\n",
    "            return False\n",
    "    "
   ]
  },
  {
   "cell_type": "code",
   "execution_count": 22,
   "metadata": {},
   "outputs": [
    {
     "data": {
      "text/plain": [
       "False"
      ]
     },
     "execution_count": 22,
     "metadata": {},
     "output_type": "execute_result"
    }
   ],
   "source": [
    "fltVowel(my_list)"
   ]
  },
  {
   "cell_type": "code",
   "execution_count": 23,
   "metadata": {},
   "outputs": [
    {
     "data": {
      "text/plain": [
       "[]"
      ]
     },
     "execution_count": 23,
     "metadata": {},
     "output_type": "execute_result"
    }
   ],
   "source": [
    "list(filter(fltVowel, my_list))"
   ]
  },
  {
   "cell_type": "code",
   "execution_count": null,
   "metadata": {},
   "outputs": [],
   "source": [
    "[expression for item in iterable]"
   ]
  },
  {
   "cell_type": "code",
   "execution_count": 9,
   "metadata": {},
   "outputs": [
    {
     "data": {
      "text/plain": [
       "[4, 16, 36]"
      ]
     },
     "execution_count": 9,
     "metadata": {},
     "output_type": "execute_result"
    }
   ],
   "source": [
    "[x **2 for x in [1,2,4,5,6] if x % 2 == 0]"
   ]
  },
  {
   "cell_type": "code",
   "execution_count": 12,
   "metadata": {},
   "outputs": [
    {
     "data": {
      "text/plain": [
       "[1, 1, 1, 1]"
      ]
     },
     "execution_count": 12,
     "metadata": {},
     "output_type": "execute_result"
    }
   ],
   "source": [
    "[len(x) for x in my_list if len(x) % 2 != 0]"
   ]
  },
  {
   "cell_type": "code",
   "execution_count": 13,
   "metadata": {},
   "outputs": [
    {
     "data": {
      "text/plain": [
       "['a', 'b,', 'c', 'd', 'd']"
      ]
     },
     "execution_count": 13,
     "metadata": {},
     "output_type": "execute_result"
    }
   ],
   "source": [
    "my_list"
   ]
  },
  {
   "cell_type": "code",
   "execution_count": 14,
   "metadata": {},
   "outputs": [
    {
     "name": "stdout",
     "output_type": "stream",
     "text": [
      "96\n",
      "80\n"
     ]
    }
   ],
   "source": [
    "import sys\n",
    "x = [1,2,3]\n",
    "y = (1,2,3)\n",
    "print(sys.getsizeof(x))\n",
    "print(sys.getsizeof(y))"
   ]
  },
  {
   "cell_type": "code",
   "execution_count": 30,
   "metadata": {},
   "outputs": [],
   "source": [
    "a =(x **2 for x in [1,2,4,5,6] if x % 2 == 0)"
   ]
  },
  {
   "cell_type": "code",
   "execution_count": 31,
   "metadata": {},
   "outputs": [
    {
     "data": {
      "text/plain": [
       "4"
      ]
     },
     "execution_count": 31,
     "metadata": {},
     "output_type": "execute_result"
    }
   ],
   "source": [
    "next(a)"
   ]
  },
  {
   "cell_type": "code",
   "execution_count": 29,
   "metadata": {},
   "outputs": [
    {
     "data": {
      "text/plain": [
       "36"
      ]
     },
     "execution_count": 29,
     "metadata": {},
     "output_type": "execute_result"
    }
   ],
   "source": [
    "next(a)"
   ]
  },
  {
   "cell_type": "code",
   "execution_count": 32,
   "metadata": {},
   "outputs": [
    {
     "name": "stdout",
     "output_type": "stream",
     "text": [
      "16\n",
      "36\n"
     ]
    }
   ],
   "source": [
    "for i in a:\n",
    "    print(i)"
   ]
  },
  {
   "cell_type": "code",
   "execution_count": 37,
   "metadata": {},
   "outputs": [
    {
     "data": {
      "text/plain": [
       "['s', 't', 'r', 'i', 'n', 'g']"
      ]
     },
     "execution_count": 37,
     "metadata": {},
     "output_type": "execute_result"
    }
   ],
   "source": [
    "[x for x in \"string\"]"
   ]
  },
  {
   "cell_type": "code",
   "execution_count": 46,
   "metadata": {},
   "outputs": [
    {
     "data": {
      "text/plain": [
       "['s', 't', 'r', 'i', 'n', 'g']"
      ]
     },
     "execution_count": 46,
     "metadata": {},
     "output_type": "execute_result"
    }
   ],
   "source": [
    "[x for x in \"s4t5r6i7n8g\" if x.isalpha()]"
   ]
  },
  {
   "cell_type": "code",
   "execution_count": 47,
   "metadata": {},
   "outputs": [
    {
     "data": {
      "text/plain": [
       "['4', '5', '6', '7', '8']"
      ]
     },
     "execution_count": 47,
     "metadata": {},
     "output_type": "execute_result"
    }
   ],
   "source": [
    "[x for x in \"s4t5r6i7n8g\" if x.isdigit()]"
   ]
  },
  {
   "cell_type": "code",
   "execution_count": 1,
   "metadata": {},
   "outputs": [
    {
     "name": "stdout",
     "output_type": "stream",
     "text": [
      "first\n",
      "second\n",
      "second\n",
      "first\n"
     ]
    }
   ],
   "source": [
    "def pos_arg (a,b):\n",
    "    print(a)\n",
    "    print(b)\n",
    "pos_arg(\"first\", \"second\")\n",
    "pos_arg(\"second\", \"first\")"
   ]
  },
  {
   "cell_type": "code",
   "execution_count": 6,
   "metadata": {},
   "outputs": [
    {
     "name": "stdout",
     "output_type": "stream",
     "text": [
      "i love you\n"
     ]
    }
   ],
   "source": [
    "def texter(a,b,c):\n",
    "    print(b, c, a)\n",
    "a = \"i\"\n",
    "b = \"love\"\n",
    "c = \"you\"\n",
    "texter(c,a,b)"
   ]
  },
  {
   "cell_type": "code",
   "execution_count": 8,
   "metadata": {},
   "outputs": [
    {
     "name": "stdout",
     "output_type": "stream",
     "text": [
      "i love you\n"
     ]
    }
   ],
   "source": [
    "def texter(t1, t2, t3):\n",
    "    print(f\"{t2} {t3} {t1}\")\n",
    "a = \"i\"\n",
    "b = \"love\"\n",
    "c = \"you\"\n",
    "texter(c,a,b)"
   ]
  },
  {
   "cell_type": "code",
   "execution_count": 9,
   "metadata": {},
   "outputs": [
    {
     "name": "stdout",
     "output_type": "stream",
     "text": [
      "first\n",
      "last\n",
      "first\n",
      "last\n"
     ]
    }
   ],
   "source": [
    "def who(first, last):\n",
    "    print(first)\n",
    "    print(last)\n",
    "who(first = \"first\", last = \"last\")\n",
    "who(last = \"last\", first = \"first\")"
   ]
  },
  {
   "cell_type": "code",
   "execution_count": 10,
   "metadata": {},
   "outputs": [
    {
     "name": "stdout",
     "output_type": "stream",
     "text": [
      "i love you\n"
     ]
    }
   ],
   "source": [
    "texter(t2 = \"i\", t3 = \"love\", t1 = \"you\")"
   ]
  },
  {
   "cell_type": "code",
   "execution_count": 12,
   "metadata": {},
   "outputs": [],
   "source": [
    "def func(volt, action, state = \"stiff\", type = \"own functon\"):\n",
    "    print(volt, action, state)\n",
    "    print(type)"
   ]
  },
  {
   "cell_type": "code",
   "execution_count": 13,
   "metadata": {},
   "outputs": [
    {
     "name": "stdout",
     "output_type": "stream",
     "text": [
      "100 volt stiff\n",
      "own functon\n"
     ]
    }
   ],
   "source": [
    "func(100, \"volt\")"
   ]
  },
  {
   "cell_type": "code",
   "execution_count": 14,
   "metadata": {},
   "outputs": [
    {
     "name": "stdout",
     "output_type": "stream",
     "text": [
      "<class 'function'>\n"
     ]
    }
   ],
   "source": [
    "print(type(func))"
   ]
  },
  {
   "cell_type": "code",
   "execution_count": 16,
   "metadata": {},
   "outputs": [
    {
     "name": "stdout",
     "output_type": "stream",
     "text": [
      "1000 voom rich\n",
      "own functon\n"
     ]
    }
   ],
   "source": [
    "func(1000, \"voom\", state = \"rich\")"
   ]
  },
  {
   "cell_type": "code",
   "execution_count": 17,
   "metadata": {},
   "outputs": [
    {
     "name": "stdout",
     "output_type": "stream",
     "text": [
      "Hii! John\n",
      "Hii! Ali\n"
     ]
    }
   ],
   "source": [
    "def name(*name):\n",
    "    for i in name:\n",
    "        print(\"Hii!\", i)\n",
    "name(\"John\", \"Ali\")"
   ]
  },
  {
   "cell_type": "code",
   "execution_count": 21,
   "metadata": {},
   "outputs": [
    {
     "name": "stdout",
     "output_type": "stream",
     "text": [
      "Hi!! ali veli\n",
      "Hi!! john cahs\n"
     ]
    }
   ],
   "source": [
    "def name(**name):\n",
    "    for key, value in name.items():\n",
    "        print(\"Hi!!\", key, value)\n",
    "name(ali = \"veli\", john = \"cahs\")"
   ]
  },
  {
   "cell_type": "code",
   "execution_count": 29,
   "metadata": {},
   "outputs": [
    {
     "name": "stdout",
     "output_type": "stream",
     "text": [
      "[2, 4, 6, 10, 12]\n",
      "[1, 5, 7, 7]\n"
     ]
    }
   ],
   "source": [
    "def slicer(*nums):\n",
    "    even = list()\n",
    "    odd = list()\n",
    "    for i in nums:\n",
    "        if i % 2:\n",
    "            odd.append(i)\n",
    "        else:\n",
    "            even.append(i)\n",
    "    print(even)\n",
    "    print(odd)\n",
    "slicer(1,2,4,5,6,10,7,7,12)"
   ]
  },
  {
   "cell_type": "code",
   "execution_count": 31,
   "metadata": {},
   "outputs": [
    {
     "name": "stdout",
     "output_type": "stream",
     "text": [
      "even [2, 4, 6]\n",
      "odd [1, 3, 5]\n"
     ]
    }
   ],
   "source": [
    "def slicer(*nums):\n",
    "    even = [i for i in nums if i % 2 == 0]\n",
    "    odd = [j for j in nums if j % 2 != 0]\n",
    "    print(\"even\", even)\n",
    "    print(\"odd\", odd)\n",
    "slicer(1,2,3,4,5,6)"
   ]
  },
  {
   "cell_type": "code",
   "execution_count": 34,
   "metadata": {},
   "outputs": [
    {
     "name": "stdout",
     "output_type": "stream",
     "text": [
      "names:  ['ali', 'veli']\n",
      "ages:  [42, 25]\n"
     ]
    }
   ],
   "source": [
    "def organizer(**kwargs):\n",
    "    list_names = list()\n",
    "    list_ages = list()\n",
    "    for key, values in kwargs.items():\n",
    "        list_names.append(key)\n",
    "        list_ages.append(values)\n",
    "    print(\"names: \", list_names)\n",
    "    print(\"ages: \", list_ages)\n",
    "organizer (ali = 42, veli = 25)"
   ]
  },
  {
   "cell_type": "code",
   "execution_count": 35,
   "metadata": {},
   "outputs": [
    {
     "name": "stdout",
     "output_type": "stream",
     "text": [
      "names:  ['ali', 'veli']\n",
      "ages:  [42, 25]\n"
     ]
    }
   ],
   "source": [
    "def organizer(**kwargs):\n",
    "    list_names = list(kwargs.keys())\n",
    "    list_ages = list(kwargs.values())\n",
    "    print(\"names: \", list_names)\n",
    "    print(\"ages: \", list_ages)\n",
    "organizer (ali = 42, veli = 25)"
   ]
  },
  {
   "cell_type": "code",
   "execution_count": 37,
   "metadata": {},
   "outputs": [
    {
     "name": "stdout",
     "output_type": "stream",
     "text": [
      "here are the names of brohter: \n",
      "tom\n",
      "sue\n",
      "cha\n"
     ]
    }
   ],
   "source": [
    "def brother(bro1, bro2, bro3):\n",
    "    print(\"here are the names of brohter: \")\n",
    "    print(bro1, bro2, bro3, sep ='\\n')\n",
    "famliy = [\"tom\", \"sue\", \"cha\"]\n",
    "brother(*famliy)"
   ]
  },
  {
   "cell_type": "code",
   "execution_count": 38,
   "metadata": {},
   "outputs": [
    {
     "name": "stdout",
     "output_type": "stream",
     "text": [
      "for me, Bill Gates and Gudiı van Rossun are geniues\n"
     ]
    }
   ],
   "source": [
    "def merger(name1, name2, name3, name4):\n",
    "    print(\"for me,\" , name1, name4, \"and\", name3, name2, \"are geniues\")\n",
    "genius = ('Bill', 'Rossun', 'Gudiı van', 'Gates')\n",
    "merger(*genius)"
   ]
  },
  {
   "cell_type": "code",
   "execution_count": 39,
   "metadata": {},
   "outputs": [
    {
     "name": "stdout",
     "output_type": "stream",
     "text": [
      "fred belongs to ggeneration x\n",
      "mary belongs to ggeneration y\n"
     ]
    }
   ],
   "source": [
    "def gene(x,y):\n",
    "    print(x, \"belongs to ggeneration x\")\n",
    "    print(y, \"belongs to ggeneration y\")\n",
    "\n",
    "dict_geme = {'y' : 'mary', 'x' : 'fred'}\n",
    "gene(**dict_geme)"
   ]
  },
  {
   "cell_type": "code",
   "execution_count": 43,
   "metadata": {},
   "outputs": [],
   "source": [
    "firends = {'ali': 24, 'veli': 42}\n",
    "def meaner(**kwargs):\n",
    "    print(sum(list(kwargs.values()))/len(list(kwargs.values())))"
   ]
  },
  {
   "cell_type": "code",
   "execution_count": 44,
   "metadata": {},
   "outputs": [
    {
     "name": "stdout",
     "output_type": "stream",
     "text": [
      "33.0\n"
     ]
    }
   ],
   "source": [
    "meaner(**firends)"
   ]
  },
  {
   "cell_type": "code",
   "execution_count": 46,
   "metadata": {},
   "outputs": [
    {
     "name": "stdout",
     "output_type": "stream",
     "text": [
      "33.0\n"
     ]
    }
   ],
   "source": [
    "def meaner1(ali, veli):\n",
    "    avg = (ali + veli)/2\n",
    "    print(avg)\n",
    "meaner1(**firends)\n"
   ]
  },
  {
   "cell_type": "code",
   "execution_count": 47,
   "metadata": {},
   "outputs": [
    {
     "data": {
      "text/plain": [
       "3"
      ]
     },
     "execution_count": 47,
     "metadata": {},
     "output_type": "execute_result"
    }
   ],
   "source": [
    "3*1**3"
   ]
  },
  {
   "cell_type": "code",
   "execution_count": 50,
   "metadata": {},
   "outputs": [
    {
     "name": "stdout",
     "output_type": "stream",
     "text": [
      "o\n"
     ]
    }
   ],
   "source": [
    "str1 = \"hello\"\n",
    "str2 = \",\"\n",
    "str3 = \"world\"\n",
    "print(str1[-1:])\n",
    "str1 = \"world\""
   ]
  },
  {
   "cell_type": "code",
   "execution_count": 54,
   "metadata": {},
   "outputs": [],
   "source": [
    "def murruvvet (f,m):\n",
    "    x_list = list()\n",
    "    for i in zip(f, m):\n",
    "        x_list.append(i)\n",
    "    return x_list\n"
   ]
  },
  {
   "cell_type": "code",
   "execution_count": 55,
   "metadata": {},
   "outputs": [],
   "source": [
    "damat_gelin = {\"f\": [\"mary\", \"bella\", \"susan\"], \"m\": [\"fred\", \"paul\", \"baha\"]}"
   ]
  },
  {
   "cell_type": "code",
   "execution_count": 56,
   "metadata": {},
   "outputs": [
    {
     "data": {
      "text/plain": [
       "[('mary', 'fred'), ('bella', 'paul'), ('susan', 'baha')]"
      ]
     },
     "execution_count": 56,
     "metadata": {},
     "output_type": "execute_result"
    }
   ],
   "source": [
    "murruvvet(**damat_gelin)"
   ]
  },
  {
   "cell_type": "code",
   "execution_count": 59,
   "metadata": {},
   "outputs": [
    {
     "data": {
      "text/plain": [
       "[('mary', 'fred'), ('bella', 'paul'), ('susan', 'baha')]"
      ]
     },
     "execution_count": 59,
     "metadata": {},
     "output_type": "execute_result"
    }
   ],
   "source": [
    "list(zip(damat_gelin['f'], damat_gelin['m']))"
   ]
  },
  {
   "cell_type": "markdown",
   "metadata": {},
   "source": [
    "# Scope and Namespace\n"
   ]
  },
  {
   "cell_type": "code",
   "execution_count": 2,
   "metadata": {},
   "outputs": [
    {
     "name": "stdout",
     "output_type": "stream",
     "text": [
      "inner variable\n",
      "outer varibale\n"
     ]
    }
   ],
   "source": [
    "my_var = \"outer varibale\"\n",
    "\n",
    "def func_var():\n",
    "    my_var = \"inner variable\"\n",
    "    print(my_var)\n",
    "\n",
    "func_var()\n",
    "print(my_var)"
   ]
  },
  {
   "cell_type": "code",
   "execution_count": 7,
   "metadata": {},
   "outputs": [
    {
     "name": "stdout",
     "output_type": "stream",
     "text": [
      "10\n"
     ]
    }
   ],
   "source": [
    "x = 5\n",
    "\n",
    "def foo():\n",
    "    x = 2\n",
    "    x = x * 5\n",
    "    print(x)\n",
    "\n",
    "foo()"
   ]
  },
  {
   "cell_type": "code",
   "execution_count": 10,
   "metadata": {},
   "outputs": [
    {
     "name": "stdout",
     "output_type": "stream",
     "text": [
      "local\n"
     ]
    }
   ],
   "source": [
    "def foo():\n",
    "    y = \"local\"\n",
    "    print(y)\n",
    "    \n",
    "foo()\n",
    "#print(y) there is error here because of scope"
   ]
  },
  {
   "cell_type": "code",
   "execution_count": 12,
   "metadata": {},
   "outputs": [
    {
     "name": "stdout",
     "output_type": "stream",
     "text": [
      "local\n",
      "global\n"
     ]
    }
   ],
   "source": [
    "variable = \"global\"\n",
    "\n",
    "def func_outer():\n",
    "    variable = \"enclosing outer local\"\n",
    "    def func_inner():\n",
    "        variable = \"enclosing inner local\"\n",
    "        def func_local():\n",
    "            variable = \"local\"\n",
    "            print(variable)\n",
    "        func_local()\n",
    "    func_inner()\n",
    "func_outer()\n",
    "print(variable)"
   ]
  },
  {
   "cell_type": "code",
   "execution_count": 14,
   "metadata": {},
   "outputs": [
    {
     "name": "stdout",
     "output_type": "stream",
     "text": [
      "enclosing outer local\n",
      "enclosing inner local\n",
      "local\n",
      "global\n"
     ]
    }
   ],
   "source": [
    "variable = \"global\"\n",
    "\n",
    "def func_outer():\n",
    "    variable = \"enclosing outer local\"\n",
    "    print(variable)\n",
    "    def func_inner():\n",
    "        variable = \"enclosing inner local\"\n",
    "        print(variable)\n",
    "        def func_local():\n",
    "            variable = \"local\"\n",
    "            print(variable)\n",
    "        func_local()\n",
    "    func_inner()\n",
    "func_outer()\n",
    "print(variable)"
   ]
  },
  {
   "cell_type": "code",
   "execution_count": 15,
   "metadata": {},
   "outputs": [
    {
     "name": "stdout",
     "output_type": "stream",
     "text": [
      "local\n",
      "enclosing inner local\n",
      "enclosing outer local\n",
      "global\n"
     ]
    }
   ],
   "source": [
    "variable = \"global\"\n",
    "\n",
    "def func_outer():\n",
    "    variable = \"enclosing outer local\"\n",
    "    \n",
    "    def func_inner():\n",
    "        variable = \"enclosing inner local\"\n",
    "        \n",
    "        def func_local():\n",
    "            variable = \"local\"\n",
    "            print(variable)\n",
    "        func_local()\n",
    "        print(variable)\n",
    "    func_inner()\n",
    "    print(variable)\n",
    "func_outer()\n",
    "print(variable)"
   ]
  },
  {
   "cell_type": "code",
   "execution_count": 19,
   "metadata": {},
   "outputs": [
    {
     "name": "stdout",
     "output_type": "stream",
     "text": [
      "1\n",
      "2\n"
     ]
    }
   ],
   "source": [
    "count = 1\n",
    "def counter():\n",
    "    global count # if we do not define as global, it will give us error\n",
    "    print(count)\n",
    "    count += 1\n",
    "    print(count)\n",
    "counter()"
   ]
  },
  {
   "cell_type": "code",
   "execution_count": 20,
   "metadata": {},
   "outputs": [
    {
     "name": "stdout",
     "output_type": "stream",
     "text": [
      "2\n",
      "3\n"
     ]
    }
   ],
   "source": [
    "counter()"
   ]
  },
  {
   "cell_type": "code",
   "execution_count": 21,
   "metadata": {},
   "outputs": [
    {
     "name": "stdout",
     "output_type": "stream",
     "text": [
      "3\n"
     ]
    }
   ],
   "source": [
    "print(count)"
   ]
  },
  {
   "cell_type": "code",
   "execution_count": 24,
   "metadata": {},
   "outputs": [
    {
     "name": "stdout",
     "output_type": "stream",
     "text": [
      "inner\n",
      "outer\n"
     ]
    }
   ],
   "source": [
    "def func_ec1():\n",
    "    x = \"outer\"\n",
    "    def funx_ec2():\n",
    "        x = \"inner\"\n",
    "        print(x)\n",
    "    funx_ec2()\n",
    "    print(x)\n",
    "func_ec1()"
   ]
  },
  {
   "cell_type": "code",
   "execution_count": 35,
   "metadata": {},
   "outputs": [
    {
     "name": "stdout",
     "output_type": "stream",
     "text": [
      "inner\n",
      "outer\n",
      "outer\n",
      "inner\n"
     ]
    }
   ],
   "source": [
    "x = \"global\"\n",
    "def func_ec1():\n",
    "    x = \"outer\"\n",
    "    def funx_ec2():\n",
    "        global x\n",
    "        x = \"inner\"\n",
    "        print(x)\n",
    "    funx_ec2()\n",
    "    print(x)\n",
    "    print(x)\n",
    "   \n",
    "func_ec1()\n",
    "print(x)"
   ]
  },
  {
   "cell_type": "code",
   "execution_count": 36,
   "metadata": {},
   "outputs": [
    {
     "name": "stdout",
     "output_type": "stream",
     "text": [
      "After local assignment: test spam\n",
      "After nonlocal assignment: nonlocal spam\n",
      "After global assignment: nonlocal spam\n",
      "In global scope: global spam\n"
     ]
    }
   ],
   "source": [
    "def scope_test():\n",
    "    def do_local():\n",
    "        spam = \"local spam\"\n",
    "\n",
    "    def do_nonlocal():\n",
    "        nonlocal spam\n",
    "        spam = \"nonlocal spam\"\n",
    "\n",
    "    def do_global():\n",
    "        global spam\n",
    "        spam = \"global spam\"\n",
    "\n",
    "    spam = \"test spam\"\n",
    "    do_local()\n",
    "    print(\"After local assignment:\", spam)\n",
    "    do_nonlocal()\n",
    "    print(\"After nonlocal assignment:\", spam)\n",
    "    do_global()\n",
    "    print(\"After global assignment:\", spam)\n",
    "\n",
    "scope_test()\n",
    "print(\"In global scope:\", spam)"
   ]
  },
  {
   "cell_type": "code",
   "execution_count": 37,
   "metadata": {},
   "outputs": [
    {
     "name": "stdout",
     "output_type": "stream",
     "text": [
      "After local assignment: test spam\n",
      "After nonlocal assignment: nonlocal spam\n",
      "After global assignment: nonlocal spam\n",
      "In global scope: global spam\n"
     ]
    }
   ],
   "source": [
    "def scope_test():\n",
    "    spam = \"test spam\"\n",
    "    def do_local():\n",
    "        spam = \"local spam\"\n",
    "\n",
    "    def do_nonlocal():\n",
    "        nonlocal spam\n",
    "        spam = \"nonlocal spam\"\n",
    "\n",
    "    def do_global():\n",
    "        global spam\n",
    "        spam = \"global spam\"\n",
    "\n",
    "    \n",
    "    do_local()\n",
    "    print(\"After local assignment:\", spam)\n",
    "    do_nonlocal()\n",
    "    print(\"After nonlocal assignment:\", spam)\n",
    "    do_global()\n",
    "    print(\"After global assignment:\", spam)\n",
    "\n",
    "scope_test()\n",
    "print(\"In global scope:\", spam)"
   ]
  },
  {
   "cell_type": "code",
   "execution_count": 39,
   "metadata": {},
   "outputs": [
    {
     "name": "stdout",
     "output_type": "stream",
     "text": [
      "one\n"
     ]
    }
   ],
   "source": [
    "var = 1\n",
    "def assigner(a):\n",
    "    global var\n",
    "    var = a\n",
    "assigner(\"one\")\n",
    "print(var)"
   ]
  },
  {
   "cell_type": "code",
   "execution_count": null,
   "metadata": {},
   "outputs": [],
   "source": []
  }
 ],
 "metadata": {
  "kernelspec": {
   "display_name": "Python 3",
   "language": "python",
   "name": "python3"
  },
  "language_info": {
   "codemirror_mode": {
    "name": "ipython",
    "version": 3
   },
   "file_extension": ".py",
   "mimetype": "text/x-python",
   "name": "python",
   "nbconvert_exporter": "python",
   "pygments_lexer": "ipython3",
   "version": "3.7.6"
  }
 },
 "nbformat": 4,
 "nbformat_minor": 4
}
