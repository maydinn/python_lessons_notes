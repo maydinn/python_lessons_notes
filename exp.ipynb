{
 "cells": [
  {
   "cell_type": "code",
   "execution_count": 1,
   "metadata": {},
   "outputs": [
    {
     "name": "stdout",
     "output_type": "stream",
     "text": [
      "expect\n"
     ]
    }
   ],
   "source": [
    "try:\n",
    "    if 5 / 0:\n",
    "        print(\"zero\")\n",
    "except ZeroDivisionError:\n",
    "    print(\"expect\")"
   ]
  },
  {
   "cell_type": "code",
   "execution_count": 3,
   "metadata": {},
   "outputs": [
    {
     "name": "stdout",
     "output_type": "stream",
     "text": [
      "expect\n"
     ]
    }
   ],
   "source": [
    "try:\n",
    "    print(\"3\" + 4)\n",
    "except:\n",
    "    print(\"expect\")"
   ]
  },
  {
   "cell_type": "code",
   "execution_count": 6,
   "metadata": {},
   "outputs": [
    {
     "name": "stdout",
     "output_type": "stream",
     "text": [
      "10\n",
      "expect\n"
     ]
    }
   ],
   "source": [
    "try:\n",
    "    print(int(\"10\"))\n",
    "    print(int(\"ten\"))\n",
    "except:\n",
    "    print(\"expect\")"
   ]
  },
  {
   "cell_type": "code",
   "execution_count": 8,
   "metadata": {},
   "outputs": [
    {
     "name": "stdout",
     "output_type": "stream",
     "text": [
      "expect\n"
     ]
    }
   ],
   "source": [
    "try:\n",
    "    print(variable)\n",
    "    variable = \"ali\"\n",
    "except:\n",
    "    print(\"expect\")"
   ]
  },
  {
   "cell_type": "code",
   "execution_count": 9,
   "metadata": {},
   "outputs": [
    {
     "name": "stdout",
     "output_type": "stream",
     "text": [
      "expect\n"
     ]
    }
   ],
   "source": [
    "try:\n",
    "    for i in range('x'):\n",
    "        print(i)\n",
    "except:\n",
    "    print(\"expect\")"
   ]
  },
  {
   "cell_type": "code",
   "execution_count": 10,
   "metadata": {},
   "outputs": [],
   "source": [
    "lisst = [7,14,13,28,7,8,6,12,25,7,4]"
   ]
  },
  {
   "cell_type": "code",
   "execution_count": 11,
   "metadata": {},
   "outputs": [],
   "source": [
    "lisst = sorted(lisst)"
   ]
  },
  {
   "cell_type": "code",
   "execution_count": 12,
   "metadata": {},
   "outputs": [
    {
     "data": {
      "text/plain": [
       "[4, 6, 7, 7, 7, 8, 12, 13, 14, 25, 28]"
      ]
     },
     "execution_count": 12,
     "metadata": {},
     "output_type": "execute_result"
    }
   ],
   "source": [
    "lisst"
   ]
  },
  {
   "cell_type": "code",
   "execution_count": 4,
   "metadata": {},
   "outputs": [
    {
     "name": "stdout",
     "output_type": "stream",
     "text": [
      "x4\n"
     ]
    }
   ],
   "source": [
    "try :\n",
    "    print(\"x\" + \"4\")\n",
    "except :\n",
    "    print(\"expect\")"
   ]
  },
  {
   "cell_type": "code",
   "execution_count": 10,
   "metadata": {},
   "outputs": [],
   "source": [
    "count = 0"
   ]
  },
  {
   "cell_type": "code",
   "execution_count": 14,
   "metadata": {},
   "outputs": [
    {
     "name": "stdout",
     "output_type": "stream",
     "text": [
      "there is not such a file or the path is incorret\n"
     ]
    }
   ],
   "source": [
    "try :\n",
    "    open(\"fsfs.txt\")\n",
    "except FileNotFoundError:\n",
    "    count += 1\n",
    "    with open(\"hata.txt\", \"a\", encoding = \"utf-8\") as f:\n",
    "        f.write(\"hatalı giriş sayısı: \" + str(count) + \"\\n\")\n",
    "    print(\"there is not such a file or the path is incorret\")"
   ]
  },
  {
   "cell_type": "code",
   "execution_count": 15,
   "metadata": {},
   "outputs": [
    {
     "name": "stdout",
     "output_type": "stream",
     "text": [
      "the first number6\n",
      "the first number2\n",
      "your result: 3.0\n",
      "thanks for using calculation\n"
     ]
    }
   ],
   "source": [
    "while True:\n",
    "    try :\n",
    "        f_number = int(input(\"the first number\"))\n",
    "        s_number = int(input(\"the first number\"))\n",
    "        division = f_number / s_number\n",
    "    except ZeroDivisionError:\n",
    "        print(\"you cannot divide a number to zero\")\n",
    "    except ValueError:\n",
    "        print(\"you shoul enter a number\")\n",
    "    except Exception as e:\n",
    "        print(\"probably it is because of '{}' error\".format(e))\n",
    "    else:\n",
    "        print(\"your result:\", division)\n",
    "    finally:\n",
    "        print(\"thanks for using calculation\")\n",
    "        break\n",
    "        \n",
    "        "
   ]
  },
  {
   "cell_type": "code",
   "execution_count": 16,
   "metadata": {},
   "outputs": [
    {
     "name": "stdout",
     "output_type": "stream",
     "text": [
      "isminizi girnizmehmet\n"
     ]
    }
   ],
   "source": [
    "try :\n",
    "    name = input(\"isminizi girniz\")\n",
    "    int(\"bes\")\n",
    "except Exception as e:\n",
    "    with open(\"hata1.txt\", \"a\", encoding = \"utf-8\") as f:\n",
    "        f.write(name + \",{}\".format(e) + \"\\n\")"
   ]
  },
  {
   "cell_type": "code",
   "execution_count": 17,
   "metadata": {},
   "outputs": [
    {
     "name": "stdout",
     "output_type": "stream",
     "text": [
      "isminizi girnizali\n"
     ]
    }
   ],
   "source": [
    "try :\n",
    "    name = input(\"isminizi girniz\")\n",
    "    4 / 0\n",
    "except Exception as e:\n",
    "    with open(\"hata1.txt\", \"a\", encoding = \"utf-8\") as f:\n",
    "        f.write(name + \",{}\".format(e) + \"\\n\")"
   ]
  },
  {
   "cell_type": "code",
   "execution_count": 18,
   "metadata": {},
   "outputs": [
    {
     "name": "stdout",
     "output_type": "stream",
     "text": [
      "isminizi girnizayse\n"
     ]
    }
   ],
   "source": [
    "try :\n",
    "    name = input(\"isminizi girniz\")\n",
    "    4 + \"4\"\n",
    "except Exception as e:\n",
    "    with open(\"hata1.txt\", \"a\", encoding = \"utf-8\") as f:\n",
    "        f.write(name + \",{}\".format(e) + \"\\n\")"
   ]
  },
  {
   "cell_type": "code",
   "execution_count": 19,
   "metadata": {},
   "outputs": [
    {
     "name": "stdout",
     "output_type": "stream",
     "text": [
      "isminizi girnizcan\n"
     ]
    }
   ],
   "source": [
    "try :\n",
    "    name = input(\"isminizi girniz\")\n",
    "    a\n",
    "except Exception as e:\n",
    "    with open(\"hata1.txt\", \"a\", encoding = \"utf-8\") as f:\n",
    "        f.write(name + \",{}\".format(e) + \"\\n\")"
   ]
  },
  {
   "cell_type": "code",
   "execution_count": 22,
   "metadata": {},
   "outputs": [
    {
     "name": "stdout",
     "output_type": "stream",
     "text": [
      "mehmet,invalid literal for int() with base 10: 'bes'\n",
      "ali,division by zero\n",
      "ayse,unsupported operand type(s) for +: 'int' and 'str'\n",
      "can,name 'a' is not defined\n",
      "\n"
     ]
    }
   ],
   "source": [
    "with open(\"hata1.txt\", \"r\", encoding = \"utf-8\") as f:\n",
    "    print(f.read())"
   ]
  },
  {
   "cell_type": "code",
   "execution_count": 23,
   "metadata": {},
   "outputs": [],
   "source": [
    "import pandas"
   ]
  },
  {
   "cell_type": "code",
   "execution_count": 26,
   "metadata": {},
   "outputs": [
    {
     "data": {
      "text/html": [
       "<div>\n",
       "<style scoped>\n",
       "    .dataframe tbody tr th:only-of-type {\n",
       "        vertical-align: middle;\n",
       "    }\n",
       "\n",
       "    .dataframe tbody tr th {\n",
       "        vertical-align: top;\n",
       "    }\n",
       "\n",
       "    .dataframe thead th {\n",
       "        text-align: right;\n",
       "    }\n",
       "</style>\n",
       "<table border=\"1\" class=\"dataframe\">\n",
       "  <thead>\n",
       "    <tr style=\"text-align: right;\">\n",
       "      <th></th>\n",
       "      <th>isim</th>\n",
       "      <th>hata</th>\n",
       "    </tr>\n",
       "  </thead>\n",
       "  <tbody>\n",
       "    <tr>\n",
       "      <th>0</th>\n",
       "      <td>mehmet</td>\n",
       "      <td>invalid literal for int() with base 10: 'bes'</td>\n",
       "    </tr>\n",
       "    <tr>\n",
       "      <th>1</th>\n",
       "      <td>ali</td>\n",
       "      <td>division by zero</td>\n",
       "    </tr>\n",
       "    <tr>\n",
       "      <th>2</th>\n",
       "      <td>ayse</td>\n",
       "      <td>unsupported operand type(s) for +: 'int' and '...</td>\n",
       "    </tr>\n",
       "    <tr>\n",
       "      <th>3</th>\n",
       "      <td>can</td>\n",
       "      <td>name 'a' is not defined</td>\n",
       "    </tr>\n",
       "  </tbody>\n",
       "</table>\n",
       "</div>"
      ],
      "text/plain": [
       "     isim                                               hata\n",
       "0  mehmet      invalid literal for int() with base 10: 'bes'\n",
       "1     ali                                   division by zero\n",
       "2    ayse  unsupported operand type(s) for +: 'int' and '...\n",
       "3     can                            name 'a' is not defined"
      ]
     },
     "execution_count": 26,
     "metadata": {},
     "output_type": "execute_result"
    }
   ],
   "source": [
    "df = pandas.read_csv(\"hata1.txt\")\n",
    "\n",
    "df"
   ]
  },
  {
   "cell_type": "code",
   "execution_count": 30,
   "metadata": {},
   "outputs": [
    {
     "data": {
      "text/plain": [
       "can       1\n",
       "ayse      1\n",
       "mehmet    1\n",
       "ali       1\n",
       "Name: isim, dtype: int64"
      ]
     },
     "execution_count": 30,
     "metadata": {},
     "output_type": "execute_result"
    }
   ],
   "source": [
    "df.isim.value_counts()"
   ]
  },
  {
   "cell_type": "code",
   "execution_count": 33,
   "metadata": {},
   "outputs": [
    {
     "name": "stdout",
     "output_type": "stream",
     "text": [
      "enter the index of your product5\n",
      "there is no such index\n",
      "you have 2 right left\n",
      "our fruits are always fresh\n",
      "enter the index of your productbes\n",
      "enter a number\n",
      "you have 1 right left\n",
      "our fruits are always fresh\n",
      "enter the index of your product2\n",
      "my favorite fruit is pear\n",
      "congrat you enter a valid input\n",
      "our fruits are always fresh\n"
     ]
    }
   ],
   "source": [
    "fruits = [\"banana\", \"mango\", \"pear\"]\n",
    "count = 3\n",
    "while count != 0:\n",
    "    try:\n",
    "        count -= 1\n",
    "        index_number = int(input(\"enter the index of your product\"))\n",
    "        print(\"my favorite fruit is \" + fruits[index_number])\n",
    "    except IndexError:\n",
    "        print(\"there is no such index\")\n",
    "        print(\"you have {} right left\".format(count))\n",
    "    except ValueError:\n",
    "        print(\"enter a number\")\n",
    "        print(\"you have {} right left\".format(count))\n",
    "    except:\n",
    "        print(\"somethingelse went wrong\")\n",
    "        print(\"you have {} right left\".format(count))\n",
    "    else:\n",
    "        print(\"congrat you enter a valid input\")\n",
    "        break\n",
    "    finally:\n",
    "        print(\"our fruits are always fresh\")"
   ]
  },
  {
   "cell_type": "code",
   "execution_count": 38,
   "metadata": {},
   "outputs": [
    {
     "data": {
      "text/plain": [
       "[('b', 2), ('c', 3), ('e', 4)]"
      ]
     },
     "execution_count": 38,
     "metadata": {},
     "output_type": "execute_result"
    }
   ],
   "source": [
    "xx = {\"e\": 4, \"b\": 2, \"c\": 3}\n",
    "\n",
    "sorted(xx.items(), key = lambda x : x[1])"
   ]
  },
  {
   "cell_type": "code",
   "execution_count": 45,
   "metadata": {},
   "outputs": [],
   "source": [
    "a = (x ** 2 for x in [1,2,3,4,5])"
   ]
  },
  {
   "cell_type": "code",
   "execution_count": 46,
   "metadata": {},
   "outputs": [
    {
     "data": {
      "text/plain": [
       "[1, 4, 9, 16, 25]"
      ]
     },
     "execution_count": 46,
     "metadata": {},
     "output_type": "execute_result"
    }
   ],
   "source": [
    "list(a)"
   ]
  },
  {
   "cell_type": "code",
   "execution_count": 47,
   "metadata": {},
   "outputs": [
    {
     "data": {
      "text/plain": [
       "55"
      ]
     },
     "execution_count": 47,
     "metadata": {},
     "output_type": "execute_result"
    }
   ],
   "source": [
    "sum(x ** 2 for x in [1,2,3,4,5])"
   ]
  },
  {
   "cell_type": "code",
   "execution_count": 48,
   "metadata": {},
   "outputs": [
    {
     "data": {
      "text/plain": [
       "25"
      ]
     },
     "execution_count": 48,
     "metadata": {},
     "output_type": "execute_result"
    }
   ],
   "source": [
    "max(x ** 2 for x in [1,2,3,4,5])"
   ]
  },
  {
   "cell_type": "code",
   "execution_count": null,
   "metadata": {},
   "outputs": [],
   "source": []
  }
 ],
 "metadata": {
  "kernelspec": {
   "display_name": "Python 3",
   "language": "python",
   "name": "python3"
  },
  "language_info": {
   "codemirror_mode": {
    "name": "ipython",
    "version": 3
   },
   "file_extension": ".py",
   "mimetype": "text/x-python",
   "name": "python",
   "nbconvert_exporter": "python",
   "pygments_lexer": "ipython3",
   "version": "3.7.6"
  }
 },
 "nbformat": 4,
 "nbformat_minor": 4
}
