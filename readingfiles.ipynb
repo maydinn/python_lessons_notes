{
 "cells": [
  {
   "cell_type": "code",
   "execution_count": 14,
   "metadata": {},
   "outputs": [],
   "source": [
    " file = open(\"first_file.txt\")"
   ]
  },
  {
   "cell_type": "code",
   "execution_count": 15,
   "metadata": {},
   "outputs": [
    {
     "name": "stdout",
     "output_type": "stream",
     "text": [
      "<class '_io.TextIOWrapper'>\n"
     ]
    }
   ],
   "source": [
    "print(type(file))"
   ]
  },
  {
   "cell_type": "code",
   "execution_count": 16,
   "metadata": {},
   "outputs": [
    {
     "name": "stdout",
     "output_type": "stream",
     "text": [
      "Ali\n"
     ]
    }
   ],
   "source": [
    "print(file.read(3))"
   ]
  },
  {
   "cell_type": "code",
   "execution_count": 17,
   "metadata": {},
   "outputs": [
    {
     "name": "stdout",
     "output_type": "stream",
     "text": [
      " ca\n"
     ]
    }
   ],
   "source": [
    "print(file.read(3))"
   ]
  },
  {
   "cell_type": "code",
   "execution_count": 18,
   "metadata": {},
   "outputs": [
    {
     "data": {
      "text/plain": [
       "6"
      ]
     },
     "execution_count": 18,
     "metadata": {},
     "output_type": "execute_result"
    }
   ],
   "source": [
    "file.tell()"
   ]
  },
  {
   "cell_type": "code",
   "execution_count": 21,
   "metadata": {},
   "outputs": [
    {
     "data": {
      "text/plain": [
       "'n \\nMan'"
      ]
     },
     "execution_count": 21,
     "metadata": {},
     "output_type": "execute_result"
    }
   ],
   "source": [
    "file.read(file.tell())"
   ]
  },
  {
   "cell_type": "code",
   "execution_count": 22,
   "metadata": {},
   "outputs": [],
   "source": [
    "file.close()"
   ]
  },
  {
   "cell_type": "code",
   "execution_count": 27,
   "metadata": {},
   "outputs": [
    {
     "data": {
      "text/plain": [
       "'Ali'"
      ]
     },
     "execution_count": 27,
     "metadata": {},
     "output_type": "execute_result"
    }
   ],
   "source": [
    "file = open(\"first_file.txt\", \"r\")\n",
    "file.read(3)"
   ]
  },
  {
   "cell_type": "code",
   "execution_count": 28,
   "metadata": {},
   "outputs": [
    {
     "data": {
      "text/plain": [
       "' ca'"
      ]
     },
     "execution_count": 28,
     "metadata": {},
     "output_type": "execute_result"
    }
   ],
   "source": [
    "file.read(file.tell())"
   ]
  },
  {
   "cell_type": "code",
   "execution_count": 29,
   "metadata": {},
   "outputs": [
    {
     "data": {
      "text/plain": [
       "'n \\nMan'"
      ]
     },
     "execution_count": 29,
     "metadata": {},
     "output_type": "execute_result"
    }
   ],
   "source": [
    "file.read(file.tell())"
   ]
  },
  {
   "cell_type": "code",
   "execution_count": 30,
   "metadata": {},
   "outputs": [
    {
     "name": "stdout",
     "output_type": "stream",
     "text": [
      " dan\n",
      "Ran kan\n"
     ]
    }
   ],
   "source": [
    "print(file.read(file.tell()))"
   ]
  },
  {
   "cell_type": "code",
   "execution_count": 32,
   "metadata": {},
   "outputs": [
    {
     "data": {
      "text/plain": [
       "'Ali'"
      ]
     },
     "execution_count": 32,
     "metadata": {},
     "output_type": "execute_result"
    }
   ],
   "source": [
    "file.seek(0)\n",
    "file.read(3)\n"
   ]
  },
  {
   "cell_type": "code",
   "execution_count": 33,
   "metadata": {},
   "outputs": [
    {
     "data": {
      "text/plain": [
       "' can \\nMan dan\\nRan kan\\nHep yep\\n'"
      ]
     },
     "execution_count": 33,
     "metadata": {},
     "output_type": "execute_result"
    }
   ],
   "source": [
    "file.read()"
   ]
  },
  {
   "cell_type": "code",
   "execution_count": 34,
   "metadata": {},
   "outputs": [
    {
     "data": {
      "text/plain": [
       "0"
      ]
     },
     "execution_count": 34,
     "metadata": {},
     "output_type": "execute_result"
    }
   ],
   "source": [
    "file.seek(0)"
   ]
  },
  {
   "cell_type": "code",
   "execution_count": 35,
   "metadata": {},
   "outputs": [
    {
     "data": {
      "text/plain": [
       "'Ali can \\nMan dan\\nRan kan\\nHep yep\\n'"
      ]
     },
     "execution_count": 35,
     "metadata": {},
     "output_type": "execute_result"
    }
   ],
   "source": [
    "file.read()"
   ]
  },
  {
   "cell_type": "code",
   "execution_count": 37,
   "metadata": {},
   "outputs": [
    {
     "name": "stdout",
     "output_type": "stream",
     "text": [
      "Ali can \n",
      "Man dan\n",
      "Ran kan\n",
      "Hep yep\n",
      "\n"
     ]
    }
   ],
   "source": [
    "file.seek(0)\n",
    "print(file.read())"
   ]
  },
  {
   "cell_type": "code",
   "execution_count": 39,
   "metadata": {},
   "outputs": [
    {
     "name": "stdout",
     "output_type": "stream",
     "text": [
      "Ali can \n",
      "Man dan\n"
     ]
    }
   ],
   "source": [
    "file.seek(0)\n",
    "print(file.read(16))"
   ]
  },
  {
   "cell_type": "code",
   "execution_count": 40,
   "metadata": {},
   "outputs": [],
   "source": [
    "file.close()"
   ]
  },
  {
   "cell_type": "code",
   "execution_count": 41,
   "metadata": {},
   "outputs": [
    {
     "name": "stdout",
     "output_type": "stream",
     "text": [
      "Ali can \n",
      "\n"
     ]
    }
   ],
   "source": [
    "with open(\"first_file.txt\") as file:\n",
    "    print(file.readline())"
   ]
  },
  {
   "cell_type": "code",
   "execution_count": 43,
   "metadata": {},
   "outputs": [
    {
     "name": "stdout",
     "output_type": "stream",
     "text": [
      "Ali \n",
      "can \n",
      "\n",
      "\n"
     ]
    }
   ],
   "source": [
    "with open(\"first_file.txt\") as file:\n",
    "    print(file.readline(4))\n",
    "    print(file.readline(4))\n",
    "    print(file.readline(1))"
   ]
  },
  {
   "cell_type": "code",
   "execution_count": 46,
   "metadata": {},
   "outputs": [],
   "source": [
    "file = open(\"first_file.txt\")"
   ]
  },
  {
   "cell_type": "code",
   "execution_count": 47,
   "metadata": {},
   "outputs": [
    {
     "data": {
      "text/plain": [
       "'Ali '"
      ]
     },
     "execution_count": 47,
     "metadata": {},
     "output_type": "execute_result"
    }
   ],
   "source": [
    " file.readline(4)\n",
    " "
   ]
  },
  {
   "cell_type": "code",
   "execution_count": 48,
   "metadata": {},
   "outputs": [
    {
     "data": {
      "text/plain": [
       "'can '"
      ]
     },
     "execution_count": 48,
     "metadata": {},
     "output_type": "execute_result"
    }
   ],
   "source": [
    " file.readline(4)"
   ]
  },
  {
   "cell_type": "code",
   "execution_count": 49,
   "metadata": {},
   "outputs": [
    {
     "data": {
      "text/plain": [
       "'\\n'"
      ]
     },
     "execution_count": 49,
     "metadata": {},
     "output_type": "execute_result"
    }
   ],
   "source": [
    "file.readline(1)"
   ]
  },
  {
   "cell_type": "code",
   "execution_count": 50,
   "metadata": {},
   "outputs": [],
   "source": [
    "file.close()"
   ]
  },
  {
   "cell_type": "code",
   "execution_count": 51,
   "metadata": {},
   "outputs": [],
   "source": [
    "file = open(\"first_file.txt\")"
   ]
  },
  {
   "cell_type": "code",
   "execution_count": 52,
   "metadata": {},
   "outputs": [
    {
     "data": {
      "text/plain": [
       "['Ali can \\n', 'Man dan\\n', 'Ran kan\\n', 'Hep yep\\n']"
      ]
     },
     "execution_count": 52,
     "metadata": {},
     "output_type": "execute_result"
    }
   ],
   "source": [
    "file.readlines()"
   ]
  },
  {
   "cell_type": "code",
   "execution_count": 57,
   "metadata": {},
   "outputs": [
    {
     "name": "stdout",
     "output_type": "stream",
     "text": [
      "Ali can \n",
      "\n",
      "Man dan\n",
      "\n",
      "Ran kan\n",
      "\n",
      "Hep yep\n",
      "\n"
     ]
    }
   ],
   "source": [
    "file.seek(0)\n",
    "for i in file.readlines():\n",
    "    print(i)"
   ]
  },
  {
   "cell_type": "code",
   "execution_count": 58,
   "metadata": {},
   "outputs": [
    {
     "name": "stdout",
     "output_type": "stream",
     "text": [
      "Ali can \n",
      "Man dan\n",
      "Ran kan\n",
      "Hep yep\n"
     ]
    }
   ],
   "source": [
    "file.seek(0)\n",
    "for i in file.readlines():\n",
    "    print(i[:-1])"
   ]
  },
  {
   "cell_type": "code",
   "execution_count": 60,
   "metadata": {},
   "outputs": [
    {
     "name": "stdout",
     "output_type": "stream",
     "text": [
      "Ali can \n",
      "Man dan\n",
      "Ran kan\n",
      "Hep yep\n"
     ]
    }
   ],
   "source": [
    "file.seek(0)\n",
    "for i in file:\n",
    "    print(i[:-1])"
   ]
  },
  {
   "cell_type": "code",
   "execution_count": 61,
   "metadata": {},
   "outputs": [],
   "source": [
    "file.close()"
   ]
  },
  {
   "cell_type": "code",
   "execution_count": 3,
   "metadata": {},
   "outputs": [
    {
     "name": "stdout",
     "output_type": "stream",
     "text": [
      "Ali can \n",
      "Man dan\n",
      "Ran kan\n",
      "Hep yep\n",
      "\n"
     ]
    }
   ],
   "source": [
    "with open(\"first_file.txt\") as f:\n",
    "    print(f.read())"
   ]
  },
  {
   "cell_type": "code",
   "execution_count": 4,
   "metadata": {},
   "outputs": [
    {
     "name": "stdout",
     "output_type": "stream",
     "text": [
      "Ali can \n",
      "\n",
      "['Man dan\\n', 'Ran kan\\n', 'Hep yep\\n']\n"
     ]
    }
   ],
   "source": [
    "with open(\"first_file.txt\") as f:\n",
    "    print(f.readline())\n",
    "    print(f.readlines())"
   ]
  },
  {
   "cell_type": "code",
   "execution_count": 14,
   "metadata": {},
   "outputs": [],
   "source": [
    "with open(\"dummy.txt\", \"w\", encoding = \"utf-8\") as f:\n",
    "    f.write(\"hello world\")\n",
    "  \n",
    "    "
   ]
  },
  {
   "cell_type": "code",
   "execution_count": 15,
   "metadata": {},
   "outputs": [
    {
     "name": "stdout",
     "output_type": "stream",
     "text": [
      "hello world\n"
     ]
    }
   ],
   "source": [
    "with open(\"dummy.txt\", \"r\", encoding = \"utf-8\") as f:\n",
    "    print(f.read())"
   ]
  },
  {
   "cell_type": "code",
   "execution_count": 16,
   "metadata": {},
   "outputs": [],
   "source": [
    "with open(\"dummy.txt\", \"a\", encoding = \"utf-8\") as f:\n",
    "    f.write(\"\\nhello world\")"
   ]
  },
  {
   "cell_type": "code",
   "execution_count": 17,
   "metadata": {},
   "outputs": [
    {
     "name": "stdout",
     "output_type": "stream",
     "text": [
      "hello world\n",
      "hello world\n"
     ]
    }
   ],
   "source": [
    "with open(\"dummy.txt\", \"r\", encoding = \"utf-8\") as f:\n",
    "    print(f.read())"
   ]
  },
  {
   "cell_type": "code",
   "execution_count": 59,
   "metadata": {},
   "outputs": [],
   "source": [
    "furit = [\"apple\", \"banana\", \"orange\", \"cheery\"]\n",
    "with open(\"furit.txt\", \"w\", encoding = \"utf-8\") as f:\n",
    "    for i in furit:\n",
    "        f.write(i + \"\\n\")\n",
    "        "
   ]
  },
  {
   "cell_type": "code",
   "execution_count": 60,
   "metadata": {},
   "outputs": [
    {
     "name": "stdout",
     "output_type": "stream",
     "text": [
      "apple\n",
      "banana\n",
      "orange\n",
      "cheery\n",
      "\n"
     ]
    }
   ],
   "source": [
    "with open(\"furit.txt\", \"r\", encoding = \"utf-8\") as f:\n",
    "    print(f.read())"
   ]
  },
  {
   "cell_type": "code",
   "execution_count": 61,
   "metadata": {},
   "outputs": [],
   "source": [
    "furit = [\"apple\\n\", \"banana\\n\", \"orange\\n\", \"cheery\\n\"]\n",
    "with open(\"furit.txt\", \"w\", encoding = \"utf-8\") as f:\n",
    "    f.writelines(furit)\n",
    "    "
   ]
  },
  {
   "cell_type": "code",
   "execution_count": 62,
   "metadata": {},
   "outputs": [
    {
     "name": "stdout",
     "output_type": "stream",
     "text": [
      "apple\n",
      "banana\n",
      "orange\n",
      "cheery\n",
      "\n"
     ]
    }
   ],
   "source": [
    "with open(\"furit.txt\", \"r\", encoding = \"utf-8\") as f:\n",
    "    print(f.read())"
   ]
  },
  {
   "cell_type": "code",
   "execution_count": 63,
   "metadata": {},
   "outputs": [],
   "source": [
    "with open(\"furit.txt\", \"a\", encoding = \"utf-8\") as f:\n",
    "    f.writelines(\"melon\")"
   ]
  },
  {
   "cell_type": "code",
   "execution_count": 64,
   "metadata": {},
   "outputs": [
    {
     "name": "stdout",
     "output_type": "stream",
     "text": [
      "apple\n",
      "banana\n",
      "orange\n",
      "cheery\n",
      "melon\n"
     ]
    }
   ],
   "source": [
    "with open(\"furit.txt\", \"r\", encoding = \"utf-8\") as f:\n",
    "    print(f.read())"
   ]
  },
  {
   "cell_type": "code",
   "execution_count": 65,
   "metadata": {},
   "outputs": [],
   "source": [
    "with open(\"furit.txt\", \"a\", encoding = \"utf-8\") as f:\n",
    "    f.writelines(\"\\nwatermelon\")"
   ]
  },
  {
   "cell_type": "code",
   "execution_count": 66,
   "metadata": {},
   "outputs": [
    {
     "name": "stdout",
     "output_type": "stream",
     "text": [
      "apple\n",
      "banana\n",
      "orange\n",
      "cheery\n",
      "melon\n",
      "watermelon\n"
     ]
    }
   ],
   "source": [
    "with open(\"furit.txt\", \"r\", encoding = \"utf-8\") as f:\n",
    "    print(f.read())"
   ]
  },
  {
   "cell_type": "code",
   "execution_count": 67,
   "metadata": {},
   "outputs": [],
   "source": [
    "fruit_list = list()\n",
    "with open(\"furit.txt\", \"r\", encoding = \"utf-8\") as f:\n",
    "   fruit_list = f.readlines()"
   ]
  },
  {
   "cell_type": "code",
   "execution_count": 68,
   "metadata": {},
   "outputs": [
    {
     "data": {
      "text/plain": [
       "['apple\\n', 'banana\\n', 'orange\\n', 'cheery\\n', 'melon\\n', 'watermelon']"
      ]
     },
     "execution_count": 68,
     "metadata": {},
     "output_type": "execute_result"
    }
   ],
   "source": [
    "fruit_list"
   ]
  },
  {
   "cell_type": "code",
   "execution_count": 69,
   "metadata": {},
   "outputs": [
    {
     "data": {
      "text/plain": [
       "['apple\\n',\n",
       " 'banana\\n',\n",
       " '\\n',\n",
       " 'orange\\n',\n",
       " 'cheery\\n',\n",
       " '\\n',\n",
       " 'melon\\n',\n",
       " 'watermelon']"
      ]
     },
     "execution_count": 69,
     "metadata": {},
     "output_type": "execute_result"
    }
   ],
   "source": [
    "count = 0\n",
    "for i in range(len(fruit_list)):\n",
    "    if i % 2 == 0 and i > 0:\n",
    "        fruit_list.insert(i + count, \"\\n\")\n",
    "        count += 1\n",
    "fruit_list\n",
    "        "
   ]
  },
  {
   "cell_type": "code",
   "execution_count": 71,
   "metadata": {},
   "outputs": [],
   "source": [
    "with open(\"furit.txt\", \"w\", encoding = \"utf-8\") as f:\n",
    "    f.writelines(fruit_list)"
   ]
  },
  {
   "cell_type": "code",
   "execution_count": 72,
   "metadata": {},
   "outputs": [
    {
     "name": "stdout",
     "output_type": "stream",
     "text": [
      "apple\n",
      "banana\n",
      "\n",
      "orange\n",
      "cheery\n",
      "\n",
      "melon\n",
      "watermelon\n"
     ]
    }
   ],
   "source": [
    "with open(\"furit.txt\", \"r\", encoding = \"utf-8\") as f:\n",
    "    print(f.read())"
   ]
  },
  {
   "cell_type": "code",
   "execution_count": 73,
   "metadata": {},
   "outputs": [],
   "source": [
    "furit = [\"apple\\n\", \"banana\\n\", \"orange\\n\", \"cheery\\n\"]\n",
    "with open(\"furit.txt\", \"w\", encoding = \"utf-8\") as f:\n",
    "    f.writelines(furit)"
   ]
  },
  {
   "cell_type": "code",
   "execution_count": 77,
   "metadata": {},
   "outputs": [],
   "source": [
    "count = 0\n",
    "with open(\"furit.txt\", \"w\", encoding = \"utf-8\") as f:\n",
    "    for i in furit:\n",
    "        count += 1\n",
    "        if count %2 == 0:\n",
    "            f.write(i + \"\\n\")\n",
    "        else:\n",
    "            f.write(i)"
   ]
  },
  {
   "cell_type": "code",
   "execution_count": 78,
   "metadata": {},
   "outputs": [
    {
     "name": "stdout",
     "output_type": "stream",
     "text": [
      "apple\n",
      "banana\n",
      "\n",
      "orange\n",
      "cheery\n",
      "\n",
      "\n"
     ]
    }
   ],
   "source": [
    "with open(\"furit.txt\", \"r\", encoding = \"utf-8\") as f:\n",
    "    print(f.read())"
   ]
  },
  {
   "cell_type": "code",
   "execution_count": 79,
   "metadata": {},
   "outputs": [],
   "source": [
    "with open(\"furit.txt\", \"r\", encoding = \"utf-8\") as f:\n",
    "    list_f = f.readlines()"
   ]
  },
  {
   "cell_type": "code",
   "execution_count": 80,
   "metadata": {},
   "outputs": [],
   "source": [
    "with open(\"furit.txt\", \"a\", encoding = \"utf-8\") as f:\n",
    "    f.write(\"\\n\")\n",
    "    for i in list_f:\n",
    "        if i == \"\\n\":\n",
    "            i.replace(\"\\n\", \"\")\n",
    "        else:\n",
    "            f.write(i)"
   ]
  },
  {
   "cell_type": "code",
   "execution_count": 81,
   "metadata": {},
   "outputs": [
    {
     "name": "stdout",
     "output_type": "stream",
     "text": [
      "apple\n",
      "banana\n",
      "\n",
      "orange\n",
      "cheery\n",
      "\n",
      "\n",
      "apple\n",
      "banana\n",
      "orange\n",
      "cheery\n",
      "\n"
     ]
    }
   ],
   "source": [
    "with open(\"furit.txt\", \"r\", encoding = \"utf-8\") as f:\n",
    "    print(f.read())"
   ]
  },
  {
   "cell_type": "code",
   "execution_count": 82,
   "metadata": {},
   "outputs": [],
   "source": [
    "toplacıkar = {\"topla\" : lambda x ,y : x+ y, \"cıkar\" : lambda x,y : x-y}"
   ]
  },
  {
   "cell_type": "code",
   "execution_count": 83,
   "metadata": {},
   "outputs": [
    {
     "data": {
      "text/plain": [
       "12"
      ]
     },
     "execution_count": 83,
     "metadata": {},
     "output_type": "execute_result"
    }
   ],
   "source": [
    "toplacıkar[\"topla\"](9,3)"
   ]
  },
  {
   "cell_type": "code",
   "execution_count": 84,
   "metadata": {},
   "outputs": [
    {
     "data": {
      "text/plain": [
       "6"
      ]
     },
     "execution_count": 84,
     "metadata": {},
     "output_type": "execute_result"
    }
   ],
   "source": [
    "toplacıkar[\"cıkar\"](9,3)"
   ]
  },
  {
   "cell_type": "code",
   "execution_count": 87,
   "metadata": {},
   "outputs": [
    {
     "name": "stdout",
     "output_type": "stream",
     "text": [
      "1 : odd\n",
      "2 : even\n",
      "3 : odd\n",
      "4 : even\n",
      "5 : odd\n"
     ]
    }
   ],
   "source": [
    "for i in [1,2,3,4,5]:\n",
    "    print(i, \":\", (lambda x : \"even\" if x % 2 == 0 else \"odd\")(i))"
   ]
  },
  {
   "cell_type": "code",
   "execution_count": 90,
   "metadata": {},
   "outputs": [
    {
     "data": {
      "text/plain": [
       "[0, 1, 2, 3, 4, 5, 6, 7]"
      ]
     },
     "execution_count": 90,
     "metadata": {},
     "output_type": "execute_result"
    }
   ],
   "source": [
    "[i for i in range(8)]"
   ]
  },
  {
   "cell_type": "code",
   "execution_count": 91,
   "metadata": {},
   "outputs": [
    {
     "data": {
      "text/plain": [
       "[1, 1, 4, 27, 256, 3125, 46656, 823543]"
      ]
     },
     "execution_count": 91,
     "metadata": {},
     "output_type": "execute_result"
    }
   ],
   "source": [
    "[i**i for i in range(8)]"
   ]
  },
  {
   "cell_type": "code",
   "execution_count": 93,
   "metadata": {},
   "outputs": [
    {
     "data": {
      "text/plain": [
       "{'0 in karesi : ': 0,\n",
       " '1 in karesi : ': 1,\n",
       " '2 in karesi : ': 4,\n",
       " '3 in karesi : ': 9,\n",
       " '4 in karesi : ': 16,\n",
       " '5 in karesi : ': 25}"
      ]
     },
     "execution_count": 93,
     "metadata": {},
     "output_type": "execute_result"
    }
   ],
   "source": [
    "{str(i) + \" in karesi : \" : i*i for i in range(6)}"
   ]
  },
  {
   "cell_type": "code",
   "execution_count": 94,
   "metadata": {},
   "outputs": [],
   "source": [
    "from datetime import date"
   ]
  },
  {
   "cell_type": "code",
   "execution_count": 102,
   "metadata": {},
   "outputs": [
    {
     "name": "stdout",
     "output_type": "stream",
     "text": [
      "2020-07-28\n",
      "2020\n"
     ]
    }
   ],
   "source": [
    "t = date.today()\n",
    "print(t)\n",
    "print(t.year)"
   ]
  },
  {
   "cell_type": "code",
   "execution_count": 103,
   "metadata": {},
   "outputs": [
    {
     "name": "stdout",
     "output_type": "stream",
     "text": [
      "bugün yıllardan:  2020\n",
      "bugün aylardan:  7\n",
      "bugün günlerden:  28\n"
     ]
    }
   ],
   "source": [
    "print(\"bugün yıllardan: \", t.year)\n",
    "print(\"bugün aylardan: \", t.month)\n",
    "print(\"bugün günlerden: \", t.day)\n"
   ]
  },
  {
   "cell_type": "code",
   "execution_count": 105,
   "metadata": {},
   "outputs": [
    {
     "data": {
      "text/plain": [
       "[10, -10]"
      ]
     },
     "execution_count": 105,
     "metadata": {},
     "output_type": "execute_result"
    }
   ],
   "source": [
    "robot = [\"right 20\", \"left 10\", \"up 30\", \"down 40\"]\n",
    "x = y = 0\n",
    "for i in range(len(robot)):\n",
    "    if robot[i].startswith(\"r\"): x += int(robot[i].split()[1])\n",
    "    elif robot[i].startswith(\"l\"): x -= int(robot[i].split()[1])\n",
    "    elif robot[i].startswith(\"u\"): y += int(robot[i].split()[1])\n",
    "    elif robot[i].startswith(\"d\"): y -= int(robot[i].split()[1])\n",
    "[x,y]"
   ]
  },
  {
   "cell_type": "code",
   "execution_count": 7,
   "metadata": {},
   "outputs": [],
   "source": [
    "with open(\"furit.cvc\", \"w\", encoding = \"utf-8\") as f:\n",
    "    f.writelines(\"col1, col2, col3\\n\")\n",
    "    f.writelines(\"fr1, fr2, fr3\\n\")\n",
    "    f.writelines(\"sr1, sr2, sr3\\n\")\n",
    "    f.writelines(\"tr1, sr2, tr3\\n\")\n",
    "    "
   ]
  },
  {
   "cell_type": "code",
   "execution_count": 8,
   "metadata": {},
   "outputs": [
    {
     "name": "stdout",
     "output_type": "stream",
     "text": [
      "col1, col2, col3\n",
      "fr1, fr2, fr3\n",
      "sr1, sr2, sr3\n",
      "tr1, sr2, tr3\n",
      "\n"
     ]
    }
   ],
   "source": [
    "with open(\"furit.cvc\", \"r\", encoding = \"utf-8\") as f:\n",
    "    print(f.read())"
   ]
  },
  {
   "cell_type": "code",
   "execution_count": 9,
   "metadata": {},
   "outputs": [],
   "source": [
    "with open(\"furit.cvc\", \"w\", encoding = \"utf-8\") as f:\n",
    "    f.writelines(\"rownum, fname, lname, age\\n\")\n",
    "    f.writelines(\"1, ali, can, 22\\n\")\n",
    "    f.writelines(\"2, veli, can, 24\\n\")\n",
    "    f.writelines(\"3, tan, can, 25\\n\")\n",
    "    f.writelines(\"4, han, can, 27\\n\")\n",
    "    f.writelines(\"5, kan, can, 29\\n\")"
   ]
  },
  {
   "cell_type": "code",
   "execution_count": 10,
   "metadata": {},
   "outputs": [
    {
     "name": "stdout",
     "output_type": "stream",
     "text": [
      "rownum, fname, lname, age\n",
      "1, ali, can, 22\n",
      "2, veli, can, 24\n",
      "3, tan, can, 25\n",
      "4, han, can, 27\n",
      "5, kan, can, 29\n",
      "\n"
     ]
    }
   ],
   "source": [
    "with open(\"furit.cvc\", \"r\", encoding = \"utf-8\") as f:\n",
    "    print(f.read())"
   ]
  },
  {
   "cell_type": "code",
   "execution_count": 11,
   "metadata": {},
   "outputs": [],
   "source": [
    "import csv"
   ]
  },
  {
   "cell_type": "code",
   "execution_count": 13,
   "metadata": {},
   "outputs": [
    {
     "name": "stdout",
     "output_type": "stream",
     "text": [
      "['rownum', ' fname', ' lname', ' age']\n",
      "['1', ' ali', ' can', ' 22']\n",
      "['2', ' veli', ' can', ' 24']\n",
      "['3', ' tan', ' can', ' 25']\n",
      "['4', ' han', ' can', ' 27']\n",
      "['5', ' kan', ' can', ' 29']\n"
     ]
    }
   ],
   "source": [
    "with open(\"furit.cvc\", \"r\", newline = '', encoding = \"utf-8\") as f:\n",
    "    csv_rows = csv.reader(f)\n",
    "    \n",
    "    for row in csv_rows:\n",
    "        print(row)"
   ]
  },
  {
   "cell_type": "code",
   "execution_count": 14,
   "metadata": {},
   "outputs": [
    {
     "name": "stdout",
     "output_type": "stream",
     "text": [
      "['rownum, fname, lname, age']\n",
      "['1, ali, can, 22']\n",
      "['2, veli, can, 24']\n",
      "['3, tan, can, 25']\n",
      "['4, han, can, 27']\n",
      "['5, kan, can, 29']\n"
     ]
    }
   ],
   "source": [
    "with open(\"furit.cvc\", \"r\", newline = '', encoding = \"utf-8\") as f:\n",
    "    csv_rows = csv.reader(f, delimiter = \":\")\n",
    "    \n",
    "    for row in csv_rows:\n",
    "        print(row)"
   ]
  },
  {
   "cell_type": "code",
   "execution_count": 16,
   "metadata": {},
   "outputs": [
    {
     "name": "stdout",
     "output_type": "stream",
     "text": [
      "[['1, ali, can, 22']]\n"
     ]
    }
   ],
   "source": [
    "with open(\"furit.cvc\", \"r\", newline = '', encoding = \"utf-8\") as f:\n",
    "    csv_rows = csv.reader(f, delimiter = \":\")\n",
    "    print(list(csv_rows) [1:2])"
   ]
  },
  {
   "cell_type": "code",
   "execution_count": 20,
   "metadata": {},
   "outputs": [],
   "source": [
    "\n",
    "df = pandas.read_csv(\"furit.cvc\")"
   ]
  },
  {
   "cell_type": "code",
   "execution_count": 21,
   "metadata": {},
   "outputs": [
    {
     "data": {
      "text/html": [
       "<div>\n",
       "<style scoped>\n",
       "    .dataframe tbody tr th:only-of-type {\n",
       "        vertical-align: middle;\n",
       "    }\n",
       "\n",
       "    .dataframe tbody tr th {\n",
       "        vertical-align: top;\n",
       "    }\n",
       "\n",
       "    .dataframe thead th {\n",
       "        text-align: right;\n",
       "    }\n",
       "</style>\n",
       "<table border=\"1\" class=\"dataframe\">\n",
       "  <thead>\n",
       "    <tr style=\"text-align: right;\">\n",
       "      <th></th>\n",
       "      <th>rownum</th>\n",
       "      <th>fname</th>\n",
       "      <th>lname</th>\n",
       "      <th>age</th>\n",
       "    </tr>\n",
       "  </thead>\n",
       "  <tbody>\n",
       "    <tr>\n",
       "      <th>0</th>\n",
       "      <td>1</td>\n",
       "      <td>ali</td>\n",
       "      <td>can</td>\n",
       "      <td>22</td>\n",
       "    </tr>\n",
       "    <tr>\n",
       "      <th>1</th>\n",
       "      <td>2</td>\n",
       "      <td>veli</td>\n",
       "      <td>can</td>\n",
       "      <td>24</td>\n",
       "    </tr>\n",
       "    <tr>\n",
       "      <th>2</th>\n",
       "      <td>3</td>\n",
       "      <td>tan</td>\n",
       "      <td>can</td>\n",
       "      <td>25</td>\n",
       "    </tr>\n",
       "    <tr>\n",
       "      <th>3</th>\n",
       "      <td>4</td>\n",
       "      <td>han</td>\n",
       "      <td>can</td>\n",
       "      <td>27</td>\n",
       "    </tr>\n",
       "    <tr>\n",
       "      <th>4</th>\n",
       "      <td>5</td>\n",
       "      <td>kan</td>\n",
       "      <td>can</td>\n",
       "      <td>29</td>\n",
       "    </tr>\n",
       "  </tbody>\n",
       "</table>\n",
       "</div>"
      ],
      "text/plain": [
       "   rownum  fname  lname   age\n",
       "0       1    ali    can    22\n",
       "1       2   veli    can    24\n",
       "2       3    tan    can    25\n",
       "3       4    han    can    27\n",
       "4       5    kan    can    29"
      ]
     },
     "execution_count": 21,
     "metadata": {},
     "output_type": "execute_result"
    }
   ],
   "source": [
    "df"
   ]
  },
  {
   "cell_type": "code",
   "execution_count": 22,
   "metadata": {},
   "outputs": [],
   "source": [
    "df = pandas.read_csv(\"furit.cvc\", index_col = 0)"
   ]
  },
  {
   "cell_type": "code",
   "execution_count": 23,
   "metadata": {},
   "outputs": [
    {
     "data": {
      "text/html": [
       "<div>\n",
       "<style scoped>\n",
       "    .dataframe tbody tr th:only-of-type {\n",
       "        vertical-align: middle;\n",
       "    }\n",
       "\n",
       "    .dataframe tbody tr th {\n",
       "        vertical-align: top;\n",
       "    }\n",
       "\n",
       "    .dataframe thead th {\n",
       "        text-align: right;\n",
       "    }\n",
       "</style>\n",
       "<table border=\"1\" class=\"dataframe\">\n",
       "  <thead>\n",
       "    <tr style=\"text-align: right;\">\n",
       "      <th></th>\n",
       "      <th>fname</th>\n",
       "      <th>lname</th>\n",
       "      <th>age</th>\n",
       "    </tr>\n",
       "    <tr>\n",
       "      <th>rownum</th>\n",
       "      <th></th>\n",
       "      <th></th>\n",
       "      <th></th>\n",
       "    </tr>\n",
       "  </thead>\n",
       "  <tbody>\n",
       "    <tr>\n",
       "      <th>1</th>\n",
       "      <td>ali</td>\n",
       "      <td>can</td>\n",
       "      <td>22</td>\n",
       "    </tr>\n",
       "    <tr>\n",
       "      <th>2</th>\n",
       "      <td>veli</td>\n",
       "      <td>can</td>\n",
       "      <td>24</td>\n",
       "    </tr>\n",
       "    <tr>\n",
       "      <th>3</th>\n",
       "      <td>tan</td>\n",
       "      <td>can</td>\n",
       "      <td>25</td>\n",
       "    </tr>\n",
       "    <tr>\n",
       "      <th>4</th>\n",
       "      <td>han</td>\n",
       "      <td>can</td>\n",
       "      <td>27</td>\n",
       "    </tr>\n",
       "    <tr>\n",
       "      <th>5</th>\n",
       "      <td>kan</td>\n",
       "      <td>can</td>\n",
       "      <td>29</td>\n",
       "    </tr>\n",
       "  </tbody>\n",
       "</table>\n",
       "</div>"
      ],
      "text/plain": [
       "        fname  lname   age\n",
       "rownum                    \n",
       "1         ali    can    22\n",
       "2        veli    can    24\n",
       "3         tan    can    25\n",
       "4         han    can    27\n",
       "5         kan    can    29"
      ]
     },
     "execution_count": 23,
     "metadata": {},
     "output_type": "execute_result"
    }
   ],
   "source": [
    "df"
   ]
  },
  {
   "cell_type": "code",
   "execution_count": null,
   "metadata": {},
   "outputs": [],
   "source": []
  }
 ],
 "metadata": {
  "kernelspec": {
   "display_name": "Python 3",
   "language": "python",
   "name": "python3"
  },
  "language_info": {
   "codemirror_mode": {
    "name": "ipython",
    "version": 3
   },
   "file_extension": ".py",
   "mimetype": "text/x-python",
   "name": "python",
   "nbconvert_exporter": "python",
   "pygments_lexer": "ipython3",
   "version": "3.7.6"
  }
 },
 "nbformat": 4,
 "nbformat_minor": 4
}
