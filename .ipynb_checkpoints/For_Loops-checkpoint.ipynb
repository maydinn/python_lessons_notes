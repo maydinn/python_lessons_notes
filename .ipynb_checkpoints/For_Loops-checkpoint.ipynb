{
 "cells": [
  {
   "cell_type": "code",
   "execution_count": 1,
   "metadata": {},
   "outputs": [
    {
     "name": "stdout",
     "output_type": "stream",
     "text": [
      "[1, 2, 3, 4, 5, 6, 7, 8, 9, 10]\n"
     ]
    }
   ],
   "source": [
    "number = []\n",
    "\n",
    "for i in range(1,11):\n",
    "    number.append(i)\n",
    "print(number)"
   ]
  },
  {
   "cell_type": "code",
   "execution_count": 2,
   "metadata": {},
   "outputs": [
    {
     "name": "stdout",
     "output_type": "stream",
     "text": [
      "1\n",
      "2\n",
      "3\n",
      "4\n",
      "5\n",
      "6\n",
      "7\n",
      "8\n",
      "9\n"
     ]
    }
   ],
   "source": [
    "for i in range(1, 10):\n",
    "    print(i)"
   ]
  },
  {
   "cell_type": "code",
   "execution_count": 4,
   "metadata": {},
   "outputs": [
    {
     "name": "stdout",
     "output_type": "stream",
     "text": [
      "L\n",
      "e\n",
      "s\n",
      "s\n",
      "o\n",
      "n\n",
      "s\n"
     ]
    }
   ],
   "source": [
    "for i in \"Lessons\":\n",
    "    print(i)"
   ]
  },
  {
   "cell_type": "code",
   "execution_count": 5,
   "metadata": {},
   "outputs": [
    {
     "name": "stdout",
     "output_type": "stream",
     "text": [
      "L,e,s,s,o,n,"
     ]
    }
   ],
   "source": [
    "for i in \"Lesson\":\n",
    "    print(i, end=\",\")"
   ]
  },
  {
   "cell_type": "code",
   "execution_count": 6,
   "metadata": {},
   "outputs": [
    {
     "name": "stdout",
     "output_type": "stream",
     "text": [
      "a\n",
      "al\n",
      "ali\n",
      "ali\n"
     ]
    }
   ],
   "source": [
    "word = \"\"\n",
    "for i in \"ali\":\n",
    "    word = word + i\n",
    "    print(word)\n",
    "print(word)"
   ]
  },
  {
   "cell_type": "code",
   "execution_count": 14,
   "metadata": {},
   "outputs": [
    {
     "name": "stdout",
     "output_type": "stream",
     "text": [
      "('name', 'Daniel')\n",
      "('surname', 'Smith')\n",
      "('age', 35)\n"
     ]
    }
   ],
   "source": [
    "user ={\n",
    "    \"name\": \"Daniel\",\n",
    "    \"surname\": \"Smith\",\n",
    "    \"age\": 35\n",
    "}\n",
    "for attribute in user:\n",
    "    print(attribute)"
   ]
  },
  {
   "cell_type": "code",
   "execution_count": 15,
   "metadata": {},
   "outputs": [
    {
     "name": "stdout",
     "output_type": "stream",
     "text": [
      "Daniel\n",
      "Smith\n",
      "35\n"
     ]
    }
   ],
   "source": [
    "user ={\n",
    "    \"name\": \"Daniel\",\n",
    "    \"surname\": \"Smith\",\n",
    "    \"age\": 35\n",
    "}\n",
    "for attribute in user.values():\n",
    "    print(attribute)"
   ]
  },
  {
   "cell_type": "code",
   "execution_count": 16,
   "metadata": {},
   "outputs": [
    {
     "name": "stdout",
     "output_type": "stream",
     "text": [
      "name\n",
      "surname\n",
      "age\n"
     ]
    }
   ],
   "source": [
    "user ={\n",
    "    \"name\": \"Daniel\",\n",
    "    \"surname\": \"Smith\",\n",
    "    \"age\": 35\n",
    "}\n",
    "for attribute in user.keys():\n",
    "    print(attribute)"
   ]
  },
  {
   "cell_type": "code",
   "execution_count": 17,
   "metadata": {},
   "outputs": [
    {
     "name": "stdout",
     "output_type": "stream",
     "text": [
      "('name', 'Daniel')\n",
      "('surname', 'Smith')\n",
      "('age', 35)\n"
     ]
    }
   ],
   "source": [
    "user ={\n",
    "    \"name\": \"Daniel\",\n",
    "    \"surname\": \"Smith\",\n",
    "    \"age\": 35\n",
    "}\n",
    "for attribute in user.items():\n",
    "    print(attribute)"
   ]
  },
  {
   "cell_type": "code",
   "execution_count": 18,
   "metadata": {},
   "outputs": [
    {
     "name": "stdout",
     "output_type": "stream",
     "text": [
      "name => Daniel\n",
      "surname => Smith\n",
      "age => 35\n"
     ]
    }
   ],
   "source": [
    "user ={\n",
    "    \"name\": \"Daniel\",\n",
    "    \"surname\": \"Smith\",\n",
    "    \"age\": 35\n",
    "}\n",
    "for key, value in user.items():\n",
    "    print(key, \"=>\", value)"
   ]
  },
  {
   "cell_type": "code",
   "execution_count": null,
   "metadata": {},
   "outputs": [],
   "source": []
  }
 ],
 "metadata": {
  "kernelspec": {
   "display_name": "Python 3",
   "language": "python",
   "name": "python3"
  },
  "language_info": {
   "codemirror_mode": {
    "name": "ipython",
    "version": 3
   },
   "file_extension": ".py",
   "mimetype": "text/x-python",
   "name": "python",
   "nbconvert_exporter": "python",
   "pygments_lexer": "ipython3",
   "version": "3.7.6"
  }
 },
 "nbformat": 4,
 "nbformat_minor": 4
}
